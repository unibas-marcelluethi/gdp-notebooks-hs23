{
 "cells": [
  {
   "cell_type": "markdown",
   "id": "8efd29b6",
   "metadata": {},
   "source": [
    "# Bedingungen und Rekursion\n",
    "#### Marcel Lüthi, Andreas Morel-Forster<br/>Departement Mathematik und Informatik, Universität Basel"
   ]
  },
  {
   "cell_type": "markdown",
   "id": "a5997727",
   "metadata": {},
   "source": [
    "### Warm-up"
   ]
  },
  {
   "cell_type": "markdown",
   "id": "69e32aa4",
   "metadata": {},
   "source": [
    "- Geben Sie die ersten 100 ganzen Zahlen mit Hilfe von Rekursion aus.\n",
    "- Wie können Sie die Zahlen aufsteigend oder absteigend ausgeben?"
   ]
  },
  {
   "cell_type": "code",
   "execution_count": null,
   "id": "f402710e",
   "metadata": {},
   "outputs": [],
   "source": [
    "public class Numbers {\n",
    "    // Ihre Lösung kommt hier hin\n",
    "\n",
    "    public static void main(String[] args) {\n",
    "        print(100);\n",
    "    }\n",
    "}"
   ]
  },
  {
   "cell_type": "code",
   "execution_count": null,
   "id": "0fea1eae",
   "metadata": {},
   "outputs": [],
   "source": [
    "Numbers.main(new String[0]);"
   ]
  },
  {
   "cell_type": "markdown",
   "id": "01c16915",
   "metadata": {},
   "source": [
    "Wir können den `else` weglassen wenn wir ein \"early-`return`\" nutzen um im `if`-Zweig die Methode direkt zu verlassen."
   ]
  },
  {
   "cell_type": "code",
   "execution_count": null,
   "id": "e27fa944",
   "metadata": {},
   "outputs": [],
   "source": [
    "public class Numbers {\n",
    "    // Ihre Lösung kommt hier hin\n",
    "\n",
    "    public static void main(String[] args) {\n",
    "        print(100);\n",
    "    }\n",
    "}"
   ]
  },
  {
   "cell_type": "code",
   "execution_count": null,
   "id": "88031ddd",
   "metadata": {},
   "outputs": [],
   "source": [
    "Numbers.main(new String[0]);"
   ]
  },
  {
   "cell_type": "markdown",
   "id": "d3698b7a",
   "metadata": {},
   "source": [
    "Dies können wir auch nutzen, um die Sign-Methode aus dem Trinket nocheinmal kompakter zu schreiben."
   ]
  },
  {
   "cell_type": "code",
   "execution_count": null,
   "id": "49413fa9",
   "metadata": {},
   "outputs": [],
   "source": [
    "class IfElse {\n",
    "  \n",
    "  public static int sign(int z) {\n",
    "    if (z > 0) {\n",
    "      return 1;\n",
    "    } else if (z == 0) {\n",
    "      return 0;\n",
    "    } else {\n",
    "      return -1;\n",
    "    }\n",
    "  }\n",
    "  \n",
    "  public static void main(String[] args) {\n",
    "    int signum = sign(5);\n",
    "    System.out.println(\"sign is: \" + signum);\n",
    "  }\n",
    "}"
   ]
  },
  {
   "cell_type": "code",
   "execution_count": null,
   "id": "185daf29",
   "metadata": {},
   "outputs": [],
   "source": [
    "IfElse.main(new String[0]);"
   ]
  },
  {
   "cell_type": "markdown",
   "id": "6c28fc29",
   "metadata": {},
   "source": [
    "Überlegen Sie, welche Schreibweise Sie in welchem Fall bevorzugen."
   ]
  },
  {
   "cell_type": "markdown",
   "id": "de5e5e80",
   "metadata": {},
   "source": [
    "### Variablen, Methoden und if-Anweisungen"
   ]
  },
  {
   "cell_type": "markdown",
   "id": "4a4ac350",
   "metadata": {},
   "source": [
    "Wir kennen nun if-Anweisungen, Methode und Variablen. Wir wollen nun einige Fragen klären, welche auftauchen können, wenn man beginnt zu Programmieren. Im foglenden sollen Sie immer beurteilen ob der Code richtig ist oder nicht. Bitte führen Sie den Code zuerst einmal nicht aus.\n",
    "\n",
    ">*Hinweis: Im Jupyter-Notebook kann es sein, dass Sie die Klasse definieren können (Zelle mit der Klasse ausführen), so lange Sie diese nicht aufrufen. Manchmal kommt dann erst bei der Ausführung ein Fehler. Dass Sie dies nicht vergessen, sind in diesem Notebook die Klassenaufrufe mit in der Zelle."
   ]
  },
  {
   "cell_type": "markdown",
   "id": "e683f207",
   "metadata": {},
   "source": [
    "```java\n",
    "public class Scope {\n",
    "\n",
    "    public static void main(String[] args) {\n",
    "        int i = 0;\n",
    "        if (Math.random() > 0.5) {\n",
    "            int i = 2;\n",
    "        } else {\n",
    "            int i = 4;\n",
    "        }\n",
    "    }\n",
    "}\n",
    "\n",
    "Scope.main(new String[0]);\n",
    "```"
   ]
  },
  {
   "cell_type": "markdown",
   "id": "30a57f3e",
   "metadata": {},
   "source": [
    "```java\n",
    "public class Scope {\n",
    "\n",
    "    public static void main(String[] args) {\n",
    "        if (Math.random() > 0.5) {\n",
    "            int i = 2;\n",
    "        } else {\n",
    "            int i = 4;\n",
    "        }\n",
    "    }\n",
    "}\n",
    "\n",
    "Scope.main(new String[0]);\n",
    "```"
   ]
  },
  {
   "cell_type": "markdown",
   "id": "f117833e",
   "metadata": {},
   "source": [
    "```java\n",
    "public class Scope {\n",
    "\n",
    "    public static void main(String[] args) {\n",
    "        if (Math.random() > 0.5) {\n",
    "            int i = 2;\n",
    "        } else {\n",
    "            int i = 4;\n",
    "        }\n",
    "        System.out.println(\"i hat den Wert \" + i);\n",
    "    }\n",
    "}\n",
    "\n",
    "Scope.main(new String[0]);\n",
    "```"
   ]
  },
  {
   "cell_type": "markdown",
   "id": "42f9b03a",
   "metadata": {},
   "source": [
    "```java\n",
    "public class Scope {\n",
    "\n",
    "    public static void main(String[] args) {\n",
    "        int i;\n",
    "        if (Math.random() > 0.5) {\n",
    "            i = 2;\n",
    "        } else {\n",
    "            i = 4;\n",
    "        }\n",
    "        System.out.println(\"i hat den Wert \" + i);\n",
    "    }\n",
    "}\n",
    "\n",
    "Scope.main(new String[0]);\n",
    "```"
   ]
  },
  {
   "cell_type": "markdown",
   "id": "86ca3c35",
   "metadata": {},
   "source": [
    "```java\n",
    "public class Scope {\n",
    "\n",
    "    public static void print() {\n",
    "        int i = 7;\n",
    "        System.out.println(\"i hat den Wert \" + i);\n",
    "    }\n",
    "\n",
    "    public static void main(String[] args) {\n",
    "        int i = 4;\n",
    "        print();\n",
    "    }\n",
    "}\n",
    "\n",
    "Scope.main(new String[0]);\n",
    "```"
   ]
  },
  {
   "cell_type": "markdown",
   "id": "3c9662af",
   "metadata": {},
   "source": [
    "```java\n",
    "public class Scope {\n",
    "\n",
    "    public static void print() {\n",
    "        System.out.println(\"i hat den Wert \" + i);\n",
    "    }\n",
    "\n",
    "    public static void main(String[] args) {\n",
    "        int i = 4;\n",
    "        print();\n",
    "    }\n",
    "}\n",
    "\n",
    "Scope.main(new String[0]);\n",
    "```"
   ]
  },
  {
   "cell_type": "markdown",
   "id": "d3d9a8c4",
   "metadata": {},
   "source": [
    "```java\n",
    "public class Scope {\n",
    "\n",
    "    public static void print(int value) {\n",
    "        System.out.println(\"i hat den Wert \" + i);\n",
    "    }\n",
    "\n",
    "    public static void main(String[] args) {\n",
    "        int i = 4;\n",
    "        print(i);\n",
    "    }\n",
    "}\n",
    "\n",
    "Scope.main(new String[0]);\n",
    "```"
   ]
  },
  {
   "cell_type": "markdown",
   "id": "19b2f50e",
   "metadata": {},
   "source": [
    "```java\n",
    "public class Scope {\n",
    "\n",
    "    public static void print2() {\n",
    "        int i = 2;\n",
    "    }\n",
    "\n",
    "    public static void print1() {\n",
    "        int i = 4;\n",
    "    }\n",
    "\n",
    "    public static void main(String[] args) {\n",
    "        if (Math.random() > 0.5) {\n",
    "            print1();\n",
    "        } else {\n",
    "            print2();\n",
    "        }\n",
    "    }\n",
    "}\n",
    "\n",
    "Scope.main(new String[0]);\n",
    "```"
   ]
  },
  {
   "cell_type": "markdown",
   "id": "1e300dd5",
   "metadata": {},
   "source": [
    "```java\n",
    "public class Scope {\n",
    "\n",
    "    public static void print2() {\n",
    "        int i = 2;\n",
    "    }\n",
    "\n",
    "    public static void print1() {\n",
    "        int i = 4;\n",
    "    }\n",
    "\n",
    "    public static void main(String[] args) {\n",
    "        print1();\n",
    "        print2();\n",
    "    }\n",
    "}\n",
    "\n",
    "Scope.main(new String[0]);\n",
    "```"
   ]
  },
  {
   "cell_type": "markdown",
   "id": "94e51478",
   "metadata": {},
   "source": [
    "```java\n",
    "public class Scope {\n",
    "\n",
    "    public static void define() {\n",
    "        int i = 4;\n",
    "    }\n",
    "\n",
    "    public static void main(String[] args) {\n",
    "        define();\n",
    "        System.out.println(\"i hat den Wert \" + i);\n",
    "    }\n",
    "}\n",
    "\n",
    "Scope.main(new String[0]);\n",
    "```"
   ]
  },
  {
   "cell_type": "code",
   "execution_count": null,
   "id": "76a1c6f5",
   "metadata": {},
   "outputs": [],
   "source": [
    "// Ihre eigenen Tests\n",
    "public class Scope {\n",
    "    \n",
    "    public static void main(String[] args) {\n",
    "    }\n",
    "}\n",
    "\n",
    "Scope.main(new String[0]);"
   ]
  },
  {
   "cell_type": "markdown",
   "id": "6dfc9d52",
   "metadata": {},
   "source": [
    "### Programme Analysieren"
   ]
  },
  {
   "cell_type": "markdown",
   "id": "06efe2f3",
   "metadata": {},
   "source": [
    "Manchmal ist es schwierig ein Programm zu lesen und genau zu sehen, was passiert. Für das folgende Programm wäre es wohl mit einigem Aufwand möglich. Oft ist es jedoch einfacher Fragen über das Programm zu beantworten, indem man durch gezielte eingefügte Ausgaben im Programm den Ablauf gezielt sichtbar macht."
   ]
  },
  {
   "cell_type": "markdown",
   "id": "7ed286e0",
   "metadata": {},
   "source": [
    "#### Miniübung"
   ]
  },
  {
   "cell_type": "markdown",
   "id": "6755d940",
   "metadata": {},
   "source": [
    "Versuchen Sie folgende Fragen zu beantowrten, in dem Sie gezielte Text ausgeben lassen.\n",
    "\n",
    "- Wie oft wird die Methode `body` aufgerufen?\n",
    "- Was ist der Inhalt des Parameters `content` wenn die Methode `head` aufgerufen wird?\n",
    "- Wird die Methode `start` oder die Methode `end` öfters aufgerufen?"
   ]
  },
  {
   "cell_type": "code",
   "execution_count": null,
   "id": "4ae8660b",
   "metadata": {},
   "outputs": [],
   "source": [
    "class Website {\n",
    "\n",
    "    static String start(String tag) {\n",
    "        return \"<\" + tag + \">\";\n",
    "    }\n",
    "    \n",
    "    static String end(String tag) {\n",
    "        return \"</\" + tag + \">\";\n",
    "    }\n",
    "    \n",
    "    static String group(String tag, String content) {\n",
    "        return start(tag) + content + end(tag);\n",
    "    }\n",
    "    \n",
    "    static String html(String content) {\n",
    "        String tag = \"html\";\n",
    "        return group(tag, content);\n",
    "    }\n",
    "    \n",
    "    static String head(String content) {\n",
    "        String tag = \"head\";\n",
    "        return group(tag, content);\n",
    "    }\n",
    "    \n",
    "    static String title(String title) {\n",
    "        String tag = \"title\";\n",
    "        return group(tag, title);\n",
    "    }\n",
    "    \n",
    "    static String body(String content) {\n",
    "        String tag = \"body\";\n",
    "        return group(tag, content);\n",
    "    }\n",
    "    \n",
    "    static String h1(String title) {\n",
    "        String tag = \"h1\";\n",
    "        return group(tag, title);\n",
    "    }\n",
    "    \n",
    "    static String document() {\n",
    "        String webpage = html(\n",
    "            head(title(\"Meine erste eigene Homepage\")) +\n",
    "            body(\n",
    "                h1(\"Ein Titel\") + \"\\n\" +\n",
    "                \"Dies ist ein bischen Text\"\n",
    "            )\n",
    "        );\n",
    "        return webpage;\n",
    "    }\n",
    "    \n",
    "    public static void main(String[] args) {\n",
    "        System.out.println(document());\n",
    "    }\n",
    "}"
   ]
  },
  {
   "cell_type": "code",
   "execution_count": null,
   "id": "ee178b48",
   "metadata": {},
   "outputs": [],
   "source": [
    "Website.main(new String[0]);"
   ]
  },
  {
   "cell_type": "markdown",
   "id": "397c5b18",
   "metadata": {},
   "source": [
    "### Test Driven Development"
   ]
  },
  {
   "cell_type": "markdown",
   "id": "dadb8b25",
   "metadata": {},
   "source": [
    "Wenn wir programmieren, machen wir Fehler. Deshalb ist das Testen von Programmen sehr wichtig. Wir wollen uns nun anschauen, was Test Driven Development (TDD) ist.\n",
    "\n",
    "Die Philosophie hinter TDD ist, dass man zuerst den Test schreibt und erst dann das Programm dazu schreibt. Dabei schreibt man nur so viel vom Programm um den Test zu erfüllen.\n",
    "\n",
    "Dies klingt sehr einfach. Wir wollen nun an einem Beispiel schauen, wie man das umsetzen kann. Nehmen wir zum Beispiel die Aufgabe arabische Zahlen in römische Zahlen umzuwandeln. Dazu soll eine Methode `toRoman` geschrieben werden. Diese soll dem Wert des übergebenen Parameter entsprechende Zahl als Text zurück gegeben.\n",
    "\n",
    "Wir beginnen, in dem wir zuerst einen Test für die Zahl `1` schreiben. Danach entwickeln wir unser Programm weiter."
   ]
  },
  {
   "cell_type": "code",
   "execution_count": null,
   "id": "593f1edb",
   "metadata": {},
   "outputs": [],
   "source": [
    "public class RomanNumbers {\n",
    "    \n",
    "    public static void main(String[] args) {\n",
    "    }\n",
    "}"
   ]
  },
  {
   "cell_type": "code",
   "execution_count": null,
   "id": "473b8b0d",
   "metadata": {},
   "outputs": [],
   "source": [
    "RomanNumbers.main(new String[0]);"
   ]
  }
 ],
 "metadata": {
  "kernelspec": {
   "display_name": "Java",
   "language": "java",
   "name": "conda-env-ijava-java"
  },
  "language_info": {
   "codemirror_mode": "java",
   "file_extension": ".jshell",
   "mimetype": "text/x-java-source",
   "name": "Java",
   "pygments_lexer": "java",
   "version": "19.0.2+7"
  }
 },
 "nbformat": 4,
 "nbformat_minor": 5
}
