{
 "cells": [
  {
   "cell_type": "markdown",
   "id": "02395950",
   "metadata": {},
   "source": [
    "# Listen\n",
    "\n",
    "#### Andreas Morel-Forster, Marcel Lüthi</br>Departement Mathematik und Informatik, Universität Basel"
   ]
  },
  {
   "cell_type": "markdown",
   "id": "e814204c",
   "metadata": {},
   "source": [
    "In diesem Arbeitsblatt führen wir ein Beispiel ein, welches uns bis zum Ende des Semesters beschäftigen wird. \n",
    "Wir werden unsere eigenen Listenklassen schreiben. In diesem ersten Teil bauen wir uns zwei einfache Implementationen von Listen, die Elemente vom Typ `double ` verwalten können. Wir verwenden dazu zwei verschiedene Datenstrukturen, nämlich verkettete Listen und Arrays. "
   ]
  },
  {
   "cell_type": "markdown",
   "id": "ea85a956",
   "metadata": {},
   "source": [
    "### Teil 1: Operationen auf Listen "
   ]
  },
  {
   "cell_type": "markdown",
   "id": "aa8f3923",
   "metadata": {},
   "source": [
    "Die Array-Klasse in Java hat grosse Limitierungen:\n",
    "\n",
    "* Die Grösse des Arrays ist fix. \n",
    "* Das Array kann nicht einfach ausgegeben werden. \n",
    "* Vergleiche von Arrays sind schwierig. \n",
    "\n",
    "Wir werden uns deshalb eine eigene Listenklasse schreiben, die diese Probleme behebt. Da es verschiedene mögliche Implementationen von Listen gibt, wollen wir uns noch nicht auf eine festlegen, sondern erst mal definieren, was eine Liste überhaupt können muss. Dies machen wir mit einem Interface. \n",
    "\n",
    "Java stellt uns bereits Listen zur Verfügung. Diese sind in der [Java API Dokumentation](https://docs.oracle.com/en/java/javase/17/docs/api/java.base/java/util/List.html) dokumentiert. Wir orientieren uns an den von Java zur Verfügung gestellten Operationen. "
   ]
  },
  {
   "cell_type": "code",
   "execution_count": null,
   "id": "0e560019",
   "metadata": {},
   "outputs": [],
   "source": [
    "interface List {\n",
    "    \n",
    "    /**\n",
    "      * Appends an element to the end of the list\n",
    "      */\n",
    "    void add(double element);\n",
    "    \n",
    "    /**\n",
    "      * returns the number of elements in the list\n",
    "      */\n",
    "    int size();\n",
    "    \n",
    "    /**\n",
    "      * gets the element at position i\n",
    "      */\n",
    "    double get(int index);\n",
    "    \n",
    "    /**\n",
    "      * sets the element at position i\n",
    "      */\n",
    "    void set(int index, double element);\n",
    "    \n",
    "    /**\n",
    "      * Returns an array representation of the given list;\n",
    "      */\n",
    "    double[] toArray();\n",
    "    \n",
    "}"
   ]
  },
  {
   "cell_type": "markdown",
   "id": "1356236e",
   "metadata": {},
   "source": [
    "*Hinweis:* Wir nutzen hier das spezielle Kommentarzeichen `/** */` um Kommentare zu schreiben. Diese Kommentare können vom `javadoc`-Tool, das Teil der Java Entwicklungsumgebung ist, in HTML umgewandelt werden. Damit können wir Dokumentationen wie diese [hier](https://docs.oracle.com/en/java/javase/17/docs/api/java.base/java/util/List.html) erstellen. "
   ]
  },
  {
   "cell_type": "markdown",
   "id": "4c8cc89c",
   "metadata": {},
   "source": [
    "Obwohl wir noch keine Implementation dieses Interfaces haben, können wir bereits Funktionen schreiben, welche die zur Verfügung gestellten Listenoperationen nutzen. *Wir programmieren einfach gegen das Interface*. \n",
    "\n",
    "Als Beispiel programmieren wir zwei nützliche Werkzeuge zum Arbeiten mit Listen. Die erste Funktion nimmt eine leere Liste und fügt equidistante Zahlen in einem vorgegebenen Interval ein. Die zweite Funktion berechnet den Durchschnittswert der Elemente in einer Liste. "
   ]
  },
  {
   "cell_type": "code",
   "execution_count": null,
   "id": "e8d66d2e",
   "metadata": {},
   "outputs": [],
   "source": [
    "class ListTools {\n",
    "\n",
    "    static void addNumbersInRange(List l, double from, double to, int size) {\n",
    "        // Ihre Implementation kommt hier hin\n",
    "    }\n",
    "\n",
    "    static double computeAverageValue(List numbers) {\n",
    "        // Ihre Implementation kommt hier hin\n",
    "        return 0.0;\n",
    "    }\n",
    "}"
   ]
  },
  {
   "cell_type": "markdown",
   "id": "d3ac767b",
   "metadata": {},
   "source": [
    "### Teil 2 : Verkettete Listen"
   ]
  },
  {
   "cell_type": "markdown",
   "id": "7ab0b9e3",
   "metadata": {},
   "source": [
    "Nun wollen wir das Listeninterface implementieren. Es gibt viele verschiedene Möglichkeiten, die Listenelemente zu repräsentieren. Wir wählen hier als Datenstruktur die *verkettete Liste*. "
   ]
  },
  {
   "cell_type": "markdown",
   "id": "3b5d696a",
   "metadata": {},
   "source": [
    "Die Grundlage für die Implementation ist ein Knoten (engl. Node). Ein Knoten ist ein Element in der Liste und enthält die Daten (hier der String ```item```) sowie eine Referenz auf den nächste Knoten (oder ```null```, falls es kein nächstes Element gibt)."
   ]
  },
  {
   "cell_type": "code",
   "execution_count": null,
   "id": "466ac4e4",
   "metadata": {},
   "outputs": [],
   "source": [
    "class Node {\n",
    "    double value;\n",
    "    Node next;\n",
    "    \n",
    "    Node(double value) {\n",
    "        this.value = value;\n",
    "        this.next = null;\n",
    "    }\n",
    "}"
   ]
  },
  {
   "cell_type": "markdown",
   "id": "4f76bd71",
   "metadata": {},
   "source": [
    "Um Werte in der Liste zu speichern, können wir einfach Objekte vom Typ `Node` mit dem entsprechenden Wert erzeugen."
   ]
  },
  {
   "cell_type": "code",
   "execution_count": null,
   "id": "78666ecf",
   "metadata": {},
   "outputs": [],
   "source": [
    "class NodeTest {\n",
    "    static void test() {\n",
    "        Node n1 = new Node(1.0);\n",
    "        Node n2 = new Node(0.0);\n",
    "        Node n3 = new Node(4.0);    \n",
    "    }\n",
    "}"
   ]
  },
  {
   "cell_type": "markdown",
   "id": "1ea39d91",
   "metadata": {},
   "source": [
    "Diese Knoten alleine bilden aber noch keine Liste. Wir müssen diese noch in eine Sequenz bringen. Dies machen wir, indem wir die entsprechenden `next` Felder der Klassen auf den jeweiligen Nachfolger setzen."
   ]
  },
  {
   "cell_type": "code",
   "execution_count": null,
   "id": "522b61cc",
   "metadata": {},
   "outputs": [],
   "source": [
    "class NodeTest {\n",
    "    public static Node createList() {\n",
    "        Node n1 = new Node(1.0);\n",
    "        Node n2 = new Node(0.0);\n",
    "        Node n3 = new Node(4.0);    \n",
    "        \n",
    "        n1.next = n2;\n",
    "        n2.next = n3;\n",
    "        \n",
    "        return n1;\n",
    "    }\n",
    "    \n",
    "    public static void printList(Node first) {\n",
    "        // Ihre Implementation kommt hier hin\n",
    "    }\n",
    "    \n",
    "    public static void main(String[] args) {\n",
    "        Node list = NodeTest.createList();\n",
    "        NodeTest.printList(list);\n",
    "    }\n",
    "}\n",
    "\n",
    "NodeTest.main(new String[0]);"
   ]
  },
  {
   "cell_type": "markdown",
   "id": "c6bbe9eb",
   "metadata": {},
   "source": [
    "Mit dieser Datenstruktur können wir alle Operationen des Interface List implementieren. "
   ]
  },
  {
   "cell_type": "code",
   "execution_count": null,
   "id": "8dcbd621",
   "metadata": {},
   "outputs": [],
   "source": [
    "class LinkedList implements List {\n",
    "    \n",
    "    Node first;\n",
    "    Node last;\n",
    "    \n",
    "    int size;\n",
    "    \n",
    "    // Erzeugt eine leere Liste\n",
    "    public LinkedList() {\n",
    "        this.first = null;\n",
    "        this.last = null;\n",
    "        this.size = 0;\n",
    "    }\n",
    "    \n",
    "    \n",
    "    // Fügt ein neues Element am Ende der Liste an.\n",
    "    @Override\n",
    "    public void add(double element) {\n",
    "        \n",
    "        // Ihre Implementation\n",
    "    }\n",
    "    \n",
    "    @Override\n",
    "    public int size() { \n",
    "        return size;\n",
    "    }\n",
    "    \n",
    "    @Override\n",
    "    public double[] toArray() {\n",
    "        \n",
    "        // Ihre Implementation kommt hier hin\n",
    "        return null;\n",
    "    }\n",
    "\n",
    "    @Override\n",
    "    public double get(int index) {\n",
    "        \n",
    "        // Ihre Implementation kommt hier hin\n",
    "        return 0.0;\n",
    "    }\n",
    "    \n",
    "    @Override\n",
    "    public void set(int index, double element) {\n",
    "        \n",
    "        // Ihre Implementation kommt hier hin\n",
    "    }\n",
    "\n",
    "    \n",
    "        \n",
    "    // Gibt die Liste aus\n",
    "    @Override\n",
    "    public String toString() {\n",
    "        \n",
    "        // Ihre Implementation kommt hier hin\n",
    "        return \"\";\n",
    "    }\n",
    "\n",
    "\n",
    "    @Override\n",
    "    public boolean equals(Object other) {\n",
    "        \n",
    "        // Ihre Implementation kommt hier hin\n",
    "        return true;\n",
    "    }\n",
    "    \n",
    "    \n",
    "}"
   ]
  },
  {
   "cell_type": "markdown",
   "id": "1ed280f9",
   "metadata": {},
   "source": [
    "Wir testen unsere Implementation, indem wir die bereits implementierten Funktionen `ListTools.addNumbersInRange` und `ListTools.computeAverageValue` nutzen. "
   ]
  },
  {
   "cell_type": "code",
   "execution_count": null,
   "id": "d6010a62",
   "metadata": {},
   "outputs": [],
   "source": [
    "class LinkedListTest {\n",
    "    \n",
    "    public static void main(String[] args) {\n",
    "        LinkedList list = new LinkedList();\n",
    "        ListTools.addNumbersInRange(list, 0, 10, 20);\n",
    "        System.out.println(list);\n",
    "        System.out.println(\"average \" + ListTools.computeAverageValue(list));\n",
    "    }    \n",
    "}\n",
    "\n",
    "LinkedListTest.main(new String[0]);"
   ]
  },
  {
   "cell_type": "markdown",
   "id": "47740f79",
   "metadata": {},
   "source": [
    "### Übung\n",
    "\n",
    "* Wir verwenden nun die Klasse ArrayList vom Notebook [Objektorientierung](https://jupyterhub-edu.scicore.unibas.ch/hub/user-redirect/git-pull?repo=https%3A%2F%2Fgithub.com%2Funibas-marcelluethi%2Fgdp-notebooks-hs22&urlpath=tree%2Fgdp-notebooks-hs22%2FObjektorientierung.ipynb&branch=main). Passen Sie diese so an, dass diese das List Interface unterstützt. "
   ]
  },
  {
   "cell_type": "code",
   "execution_count": null,
   "id": "160f5578",
   "metadata": {},
   "outputs": [],
   "source": [
    "class ArrayList {\n",
    "    \n",
    "    // Hält die Daten \n",
    "    double[] data;\n",
    "    \n",
    "    // Die Anzahl der in der ArrayList gespeicherten Elemente\n",
    "    int size = 0;\n",
    "    \n",
    "    // Erzeugt eine ArrayList mit gegebener Kapazität\n",
    "    public ArrayList(int capacity) {\n",
    "        this.data = new double[capacity];\n",
    "        this.size = 0;\n",
    "    }\n",
    "    \n",
    "    // Erzeugt eine ArrayList mit n Elementen, die alle auf den in element gegebene\n",
    "    // Wert gesetzt wird. \n",
    "    public static ArrayList fill(int n, double element) {\n",
    "        ArrayList newList = new ArrayList(n);\n",
    "        for (int i = 0; i < n; i = i + 1) {\n",
    "            newList.append(element);\n",
    "        }\n",
    "        return newList;\n",
    "        \n",
    "    }\n",
    "    \n",
    "    // Setzt das Element an der Stelle index\n",
    "    public void set(int index, double element) {\n",
    "        data[index] = element;\n",
    "    }\n",
    "    \n",
    "    // Fügt ein neues Element am Ende der Liste an. Wenn die Liste nicht gross\n",
    "    // genug ist, wird die Liste vergrössert\n",
    "    public void append(double element) {\n",
    "        if (size >= data.length) {\n",
    "            resize(2 * data.length);\n",
    "        }\n",
    "        data[size] = element;\n",
    "        size += 1;\n",
    "    }\n",
    "    \n",
    "    // Gibt die Liste aus\n",
    "    public void print() { \n",
    "        if (size == 0) {\n",
    "            System.out.println(\"[]\");\n",
    "        } else {\n",
    "            System.out.print(\"[\");\n",
    "            for (int i = 0; i < size -1 ; i = i + 1) {\n",
    "                System.out.print(data[i] + \", \"); \n",
    "            }\n",
    "            System.out.print(data[size - 1]);\n",
    "            System.out.println(\"]\");\n",
    "        }\n",
    "    }\n",
    "    \n",
    "    // Vergleicht dieses Array mit dem übergebenen Array other\n",
    "    public boolean equals(ArrayList other) {\n",
    "        if (other.size != this.size) { \n",
    "            return false;\n",
    "        }\n",
    "        for (int i = 0; i < size; i = i + 1) {\n",
    "            if (this.data[i] != other.data[i]) {\n",
    "                return false;\n",
    "            }\n",
    "        }\n",
    "        \n",
    "        return true;\n",
    "        \n",
    "    }\n",
    "    \n",
    "    // Verändert die Grösse des Arrays. Die im array gespeicherten \n",
    "    // Elemente bleiben erhalten. \n",
    "    void resize(int numberOfElements) {\n",
    "        double[] newArray = new double[numberOfElements];\n",
    "        for (int i = 0; i < size; i = i + 1) {\n",
    "            newArray[i] = data[i];\n",
    "        }\n",
    "        this.data = newArray;\n",
    "    }\n",
    "    \n",
    "    //=========================================\n",
    "    // Implementieren Sie die geerbten Methoden\n",
    "    //public int size() { \n",
    "    //    return 0;\n",
    "    //}\n",
    "\n",
    "    \n",
    "    //public double get(int index) { \n",
    "    //    return 0.0;\n",
    "    //}\n",
    "    \n",
    "    //public double[] toArray() {\n",
    "    //    return new double[0];\n",
    "    //}\n",
    "    \n",
    "    //public void add(double value) {\n",
    "    //    \n",
    "    //}\n",
    "    \n",
    "}"
   ]
  },
  {
   "cell_type": "code",
   "execution_count": null,
   "id": "88ecee91",
   "metadata": {},
   "outputs": [],
   "source": [
    "class ArrayListTest {\n",
    "    public static void main(String[] args) {\n",
    "        ArrayList list = new ArrayList(10);\n",
    "        ListTools.addNumbersInRange(list, 0, 10, 100);        \n",
    "        System.out.println(\"average \" + ListTools.computeAverageValue(list));\n",
    "    }\n",
    "}\n",
    "ArrayListTest.main(new String[0]);"
   ]
  },
  {
   "cell_type": "code",
   "execution_count": null,
   "id": "17fcf59e",
   "metadata": {},
   "outputs": [],
   "source": []
  }
 ],
 "metadata": {
  "kernelspec": {
    "name": "conda-env-ijava-java",
    "display_name": "Java [conda env:ijava]",
    "language": "java"
  },
  "language_info": {
    "name": "Java",
    "version": "17.0.3-internal+0-adhoc..src",
    "mimetype": "text/x-java-source",
    "file_extension": ".jshell",
    "pygments_lexer": "java",
    "codemirror_mode": "java"
  }
 },
 "nbformat": 4,
 "nbformat_minor": 5
}
