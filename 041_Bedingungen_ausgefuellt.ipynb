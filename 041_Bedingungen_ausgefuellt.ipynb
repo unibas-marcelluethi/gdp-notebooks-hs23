{
 "cells": [
  {
   "cell_type": "markdown",
   "id": "8efd29b6",
   "metadata": {},
   "source": [
    "# Bedingungen und Rekursion\n",
    "#### Marcel Lüthi, Andreas Morel-Forster<br/>Departement Mathematik und Informatik, Universität Basel"
   ]
  },
  {
   "cell_type": "markdown",
   "id": "a5997727",
   "metadata": {},
   "source": [
    "### Warm-up"
   ]
  },
  {
   "cell_type": "markdown",
   "id": "69e32aa4",
   "metadata": {},
   "source": [
    "- Geben Sie die ersten 100 ganzen Zahlen mit Hilfe von Rekursion aus.\n",
    "- Wie können Sie die Zahlen aufsteigend oder absteigend ausgeben?"
   ]
  },
  {
   "cell_type": "code",
   "execution_count": 1,
   "id": "f402710e",
   "metadata": {},
   "outputs": [],
   "source": [
    "public class Numbers {\n",
    "    // Ihre Lösung kommt hier hin\n",
    "    public static void print(int n) {\n",
    "        if (n == 0) {\n",
    "           // Abbruch, tue nichts, 0 tut hier nichts\n",
    "        } else {\n",
    "            print(n - 1);\n",
    "            System.out.println(n);\n",
    "        }\n",
    "    }\n",
    "\n",
    "    public static void main(String[] args) {\n",
    "        print(10);\n",
    "    }\n",
    "}"
   ]
  },
  {
   "cell_type": "code",
   "execution_count": 2,
   "id": "0fea1eae",
   "metadata": {},
   "outputs": [
    {
     "name": "stdout",
     "output_type": "stream",
     "text": [
      "1\n",
      "2\n",
      "3\n",
      "4\n",
      "5\n",
      "6\n",
      "7\n",
      "8\n",
      "9\n",
      "10\n"
     ]
    }
   ],
   "source": [
    "Numbers.main(new String[0]);"
   ]
  },
  {
   "cell_type": "markdown",
   "id": "01c16915",
   "metadata": {},
   "source": [
    "Wir können den `else` weglassen wenn wir ein \"early-`return`\" nutzen um im `if`-Zweig die Methode direkt zu verlassen."
   ]
  },
  {
   "cell_type": "code",
   "execution_count": 19,
   "id": "e27fa944",
   "metadata": {},
   "outputs": [],
   "source": [
    "public class Numbers {\n",
    "    // Ihre Lösung kommt hier hin\n",
    "    public static void print(int n) {\n",
    "        if (n == 0) {\n",
    "           return; // kein Wert da void\n",
    "        }\n",
    "        \n",
    "        print(n - 1);\n",
    "        System.out.println(n);\n",
    "    }\n",
    "\n",
    "    public static void main(String[] args) {\n",
    "        print(10);\n",
    "    }\n",
    "}"
   ]
  },
  {
   "cell_type": "code",
   "execution_count": 18,
   "id": "88031ddd",
   "metadata": {},
   "outputs": [
    {
     "name": "stdout",
     "output_type": "stream",
     "text": [
      "1\n",
      "2\n",
      "3\n",
      "4\n",
      "5\n",
      "6\n",
      "7\n",
      "8\n",
      "9\n",
      "10\n"
     ]
    }
   ],
   "source": [
    "Numbers.main(new String[0]);"
   ]
  },
  {
   "cell_type": "markdown",
   "id": "d3698b7a",
   "metadata": {},
   "source": [
    "Dies können wir auch nutzen, um die Sign-Methode aus dem Trinket nocheinmal kompakter zu schreiben."
   ]
  },
  {
   "cell_type": "code",
   "execution_count": 20,
   "id": "49413fa9",
   "metadata": {},
   "outputs": [],
   "source": [
    "class IfElse {\n",
    "  \n",
    "  public static int sign(int z) {\n",
    "    if (z > 0) {\n",
    "      return 1;\n",
    "    }\n",
    "      \n",
    "    if (z == 0) {\n",
    "      return 0;\n",
    "    }\n",
    "      \n",
    "    return -1;\n",
    "  }\n",
    "  \n",
    "  public static void main(String[] args) {\n",
    "    int signum = sign(5);\n",
    "    System.out.println(\"sign is: \" + signum);\n",
    "  }\n",
    "}"
   ]
  },
  {
   "cell_type": "code",
   "execution_count": 21,
   "id": "185daf29",
   "metadata": {},
   "outputs": [
    {
     "name": "stdout",
     "output_type": "stream",
     "text": [
      "sign is: 1\n"
     ]
    }
   ],
   "source": [
    "IfElse.main(new String[0]);"
   ]
  },
  {
   "cell_type": "markdown",
   "id": "6c28fc29",
   "metadata": {},
   "source": [
    "Überlegen Sie, welche Schreibweise Sie in welchem Fall bevorzugen."
   ]
  },
  {
   "cell_type": "markdown",
   "id": "de5e5e80",
   "metadata": {},
   "source": [
    "### Variablen, Methoden und if-Anweisungen"
   ]
  },
  {
   "cell_type": "markdown",
   "id": "4a4ac350",
   "metadata": {},
   "source": [
    "Wir kennen nun if-Anweisungen, Methode und Variablen. Wir wollen nun einige Fragen klären, welche auftauchen können, wenn man beginnt zu Programmieren. Im foglenden sollen Sie immer beurteilen ob der Code richtig ist oder nicht. Bitte führen Sie den Code zuerst einmal nicht aus.\n",
    "\n",
    ">*Hinweis: Im Jupyter-Notebook kann es sein, dass Sie die Klasse definieren können (Zelle mit der Klasse ausführen), so lange Sie diese nicht aufrufen. Manchmal kommt dann erst bei der Ausführung ein Fehler. Dass Sie dies nicht vergessen, sind in diesem Notebook die Klassenaufrufe mit in der Zelle.*"
   ]
  },
  {
   "cell_type": "markdown",
   "id": "d58c3af4",
   "metadata": {},
   "source": [
    "```java\n",
    "public class Scope {\n",
    "\n",
    "    public static void main(String[] args) {\n",
    "        int i = 0;\n",
    "        if (Math.random() > 0.5) {\n",
    "            int i = 2;\n",
    "        } else {\n",
    "            int i = 4;\n",
    "        }\n",
    "    }\n",
    "}\n",
    "\n",
    "Scope.main(new String[0]);\n",
    "```"
   ]
  },
  {
   "cell_type": "markdown",
   "id": "3d799c95",
   "metadata": {},
   "source": [
    "```java\n",
    "public class Scope {\n",
    "\n",
    "    public static void main(String[] args) {\n",
    "        if (Math.random() > 0.5) {\n",
    "            int i = 2;\n",
    "        } else {\n",
    "            int i = 4;\n",
    "        }\n",
    "    }\n",
    "}\n",
    "\n",
    "Scope.main(new String[0]);\n",
    "```"
   ]
  },
  {
   "cell_type": "markdown",
   "id": "ef4ce92e",
   "metadata": {},
   "source": [
    "```java\n",
    "public class Scope {\n",
    "\n",
    "    public static void main(String[] args) {\n",
    "        if (Math.random() > 0.5) {\n",
    "            int i = 2;\n",
    "        } else {\n",
    "            int i = 4;\n",
    "        }\n",
    "        System.out.println(\"i hat den Wert \" + i);\n",
    "    }\n",
    "}\n",
    "\n",
    "Scope.main(new String[0]);\n",
    "```"
   ]
  },
  {
   "cell_type": "markdown",
   "id": "a6f9f380",
   "metadata": {},
   "source": [
    "```java\n",
    "public class Scope {\n",
    "\n",
    "    public static void main(String[] args) {\n",
    "        int i;\n",
    "        if (Math.random() > 0.5) {\n",
    "            i = 2;\n",
    "        } else {\n",
    "            i = 4;\n",
    "        }\n",
    "        System.out.println(\"i hat den Wert \" + i);\n",
    "    }\n",
    "}\n",
    "\n",
    "Scope.main(new String[0]);\n",
    "```"
   ]
  },
  {
   "cell_type": "markdown",
   "id": "16296fef",
   "metadata": {},
   "source": [
    "```java\n",
    "public class Scope {\n",
    "\n",
    "    public static void print() {\n",
    "        int i = 7;\n",
    "        System.out.println(\"i hat den Wert \" + i);\n",
    "    }\n",
    "\n",
    "    public static void main(String[] args) {\n",
    "        int i = 4;\n",
    "        print();\n",
    "    }\n",
    "}\n",
    "\n",
    "Scope.main(new String[0]);\n",
    "```"
   ]
  },
  {
   "cell_type": "markdown",
   "id": "c885485b",
   "metadata": {},
   "source": [
    "```java\n",
    "public class Scope {\n",
    "\n",
    "    public static void print() {\n",
    "        System.out.println(\"i hat den Wert \" + i);\n",
    "    }\n",
    "\n",
    "    public static void main(String[] args) {\n",
    "        int i = 4;\n",
    "        print();\n",
    "    }\n",
    "}\n",
    "\n",
    "Scope.main(new String[0]);\n",
    "```"
   ]
  },
  {
   "cell_type": "markdown",
   "id": "716517d5",
   "metadata": {},
   "source": [
    "```java\n",
    "public class Scope {\n",
    "\n",
    "    public static void print(int value) {\n",
    "        System.out.println(\"i hat den Wert \" + i);\n",
    "    }\n",
    "\n",
    "    public static void main(String[] args) {\n",
    "        int i = 4;\n",
    "        print(i);\n",
    "    }\n",
    "}\n",
    "\n",
    "Scope.main(new String[0]);\n",
    "```"
   ]
  },
  {
   "cell_type": "markdown",
   "id": "68e2de19",
   "metadata": {},
   "source": [
    "```java\n",
    "public class Scope {\n",
    "\n",
    "    public static void print2() {\n",
    "        int i = 2;\n",
    "    }\n",
    "\n",
    "    public static void print1() {\n",
    "        int i = 4;\n",
    "    }\n",
    "\n",
    "    public static void main(String[] args) {\n",
    "        if (Math.random() > 0.5) {\n",
    "            print1();\n",
    "        } else {\n",
    "            print2();\n",
    "        }\n",
    "    }\n",
    "}\n",
    "\n",
    "Scope.main(new String[0]);\n",
    "```"
   ]
  },
  {
   "cell_type": "markdown",
   "id": "38aadd7d",
   "metadata": {},
   "source": [
    "```java\n",
    "public class Scope {\n",
    "\n",
    "    public static void print2() {\n",
    "        int i = 2;\n",
    "    }\n",
    "\n",
    "    public static void print1() {\n",
    "        int i = 4;\n",
    "    }\n",
    "\n",
    "    public static void main(String[] args) {\n",
    "        print1();\n",
    "        print2();\n",
    "    }\n",
    "}\n",
    "\n",
    "Scope.main(new String[0]);\n",
    "```"
   ]
  },
  {
   "cell_type": "markdown",
   "id": "1a19b6fa",
   "metadata": {},
   "source": [
    "```java\n",
    "public class Scope {\n",
    "\n",
    "    public static void define() {\n",
    "        int i = 4;\n",
    "    }\n",
    "\n",
    "    public static void main(String[] args) {\n",
    "        define();\n",
    "        System.out.println(\"i hat den Wert \" + i);\n",
    "    }\n",
    "}\n",
    "\n",
    "Scope.main(new String[0]);\n",
    "```"
   ]
  },
  {
   "cell_type": "code",
   "execution_count": null,
   "id": "76a1c6f5",
   "metadata": {},
   "outputs": [],
   "source": [
    "// Ihre eigenen Tests\n",
    "public class Scope {\n",
    "    \n",
    "    public static void main(String[] args) {\n",
    "    }\n",
    "}\n",
    "\n",
    "Scope.main(new String[0]);"
   ]
  },
  {
   "cell_type": "markdown",
   "id": "6dfc9d52",
   "metadata": {},
   "source": [
    "### Programme Analysieren"
   ]
  },
  {
   "cell_type": "markdown",
   "id": "06efe2f3",
   "metadata": {},
   "source": [
    "Manchmal ist es schwierig ein Programm zu lesen und genau zu sehen, was passiert. Für das folgende Programm wäre es wohl mit einigem Aufwand möglich. Oft ist es jedoch einfacher Fragen über das Programm zu beantworten, indem man durch gezielte eingefügte Ausgaben im Programm den Ablauf gezielt sichtbar macht."
   ]
  },
  {
   "cell_type": "markdown",
   "id": "7ed286e0",
   "metadata": {},
   "source": [
    "#### Miniübung"
   ]
  },
  {
   "cell_type": "markdown",
   "id": "6755d940",
   "metadata": {},
   "source": [
    "Versuchen Sie folgende Fragen zu beantowrten, in dem Sie gezielte Text ausgeben lassen.\n",
    "\n",
    "- Wie oft wird die Methode `body` aufgerufen?\n",
    "- Was ist der Inhalt des Parameters `content` wenn die Methode `head` aufgerufen wird?\n",
    "- Wird die Methode `start` oder die Methode `end` öfters aufgerufen?"
   ]
  },
  {
   "cell_type": "code",
   "execution_count": 34,
   "id": "4ae8660b",
   "metadata": {},
   "outputs": [],
   "source": [
    "class Website {\n",
    "\n",
    "    static String start(String tag) {\n",
    "        System.out.println(\"start called\");\n",
    "        return \"<\" + tag + \">\";\n",
    "    }\n",
    "    \n",
    "    static String end(String tag) {\n",
    "        System.out.println(\"end called\");\n",
    "        return \"</\" + tag + \">\";\n",
    "    }\n",
    "    \n",
    "    static String group(String tag, String content) {\n",
    "        return start(tag) + content + end(tag);\n",
    "    }\n",
    "    \n",
    "    static String html(String content) {\n",
    "        String tag = \"html\";\n",
    "        return group(tag, content);\n",
    "    }\n",
    "    \n",
    "    static String head(String content) {\n",
    "        System.out.println(\"Value of content: \" + content);\n",
    "        String tag = \"head\";\n",
    "        return group(tag, content);\n",
    "    }\n",
    "    \n",
    "    static String title(String title) {\n",
    "        String tag = \"title\";\n",
    "        return group(tag, title);\n",
    "    }\n",
    "    \n",
    "    static String body(String content) {\n",
    "        System.out.println(\"body wird aufgerufen\");\n",
    "        String tag = \"body\";\n",
    "        return group(tag, content);\n",
    "    }\n",
    "    \n",
    "    static String h1(String title) {\n",
    "        String tag = \"h1\";\n",
    "        return group(tag, title);\n",
    "    }\n",
    "    \n",
    "    static String document() {\n",
    "        String webpage = html(\n",
    "            head(title(\"Meine erste eigene Homepage\")) +\n",
    "            body(\n",
    "                h1(\"Ein Titel\") + \"\\n\" +\n",
    "                \"Dies ist ein bischen Text\"\n",
    "            )\n",
    "        );\n",
    "        return webpage;\n",
    "    }\n",
    "    \n",
    "    public static void main(String[] args) {\n",
    "        System.out.println(document());\n",
    "    }\n",
    "}"
   ]
  },
  {
   "cell_type": "code",
   "execution_count": 35,
   "id": "ee178b48",
   "metadata": {},
   "outputs": [
    {
     "name": "stdout",
     "output_type": "stream",
     "text": [
      "start called\n",
      "end called\n",
      "Value of content: <title>Meine erste eigene Homepage</title>\n",
      "start called\n",
      "end called\n",
      "start called\n",
      "end called\n",
      "body wird aufgerufen\n",
      "start called\n",
      "end called\n",
      "start called\n",
      "end called\n",
      "<html><head><title>Meine erste eigene Homepage</title></head><body><h1>Ein Titel</h1>\n",
      "Dies ist ein bischen Text</body></html>\n"
     ]
    }
   ],
   "source": [
    "Website.main(new String[0]);"
   ]
  },
  {
   "cell_type": "markdown",
   "id": "397c5b18",
   "metadata": {},
   "source": [
    "### Test Driven Development"
   ]
  },
  {
   "cell_type": "markdown",
   "id": "dadb8b25",
   "metadata": {},
   "source": [
    "Wenn wir programmieren, machen wir Fehler. Deshalb ist das Testen von Programmen sehr wichtig. Wir wollen uns nun anschauen, was Test Driven Development (TDD) ist.\n",
    "\n",
    "Die Philosophie hinter TDD ist, dass man zuerst den Test schreibt und erst dann das Programm dazu schreibt. Dabei schreibt man nur so viel vom Programm um den Test zu erfüllen.\n",
    "\n",
    "Dies klingt sehr einfach. Wir wollen nun an einem Beispiel schauen, wie man das umsetzen kann. Nehmen wir zum Beispiel die Aufgabe arabische Zahlen in römische Zahlen umzuwandeln. Dazu soll eine Methode `toRoman` geschrieben werden. Diese soll dem Wert des übergebenen Parameter entsprechende Zahl als Text zurück gegeben.\n",
    "\n",
    "Wir beginnen, in dem wir zuerst einen Test für die Zahl `1` schreiben. Danach entwickeln wir unser Programm weiter."
   ]
  },
  {
   "cell_type": "code",
   "execution_count": 52,
   "id": "593f1edb",
   "metadata": {},
   "outputs": [],
   "source": [
    "public class RomanNumbers {\n",
    "    \n",
    "    public static String toRoman(int value) {\n",
    "        if(value == 4) {\n",
    "            return \"IV\";\n",
    "        }\n",
    "        if(value >= 1) {\n",
    "            return \"I\" + toRoman(value - 1);\n",
    "        }\n",
    "        return \"\";\n",
    "    }\n",
    "    \n",
    "    public static void test(int value, String expected) {\n",
    "        if (toRoman(value).equals(expected) ) {\n",
    "            System.out.println(\"Test successful for \" + value +\", result is \" + expected);\n",
    "        } else {\n",
    "            System.out.println(\"Test failed for \" + value + \" is not \" + expected);\n",
    "        }\n",
    "    }\n",
    "    \n",
    "    public static void main(String[] args) {\n",
    "        test(1, \"I\");\n",
    "        test(2, \"II\");\n",
    "        test(3, \"III\");\n",
    "    }\n",
    "}"
   ]
  },
  {
   "cell_type": "code",
   "execution_count": 53,
   "id": "473b8b0d",
   "metadata": {},
   "outputs": [
    {
     "name": "stdout",
     "output_type": "stream",
     "text": [
      "Test successful for 1, result is I\n",
      "Test successful for 2, result is II\n",
      "Test successful for 3, result is III\n"
     ]
    }
   ],
   "source": [
    "RomanNumbers.main(new String[0]);"
   ]
  },
  {
   "cell_type": "markdown",
   "id": "b1fb31af",
   "metadata": {},
   "source": [
    "Fortfahren durch schrittweises hinzufügen von Tests und Fällen:"
   ]
  },
  {
   "cell_type": "code",
   "execution_count": 15,
   "id": "87697433",
   "metadata": {},
   "outputs": [],
   "source": [
    "public class RomanNumbers {\n",
    "\n",
    "    public static void testNumber(int value, String expectedValue) {\n",
    "        String convertedValue = toRoman(value);\n",
    "        \n",
    "        System.out.print(String.format(\"%d is converted to \\\"%s\\\"\", value, convertedValue));\n",
    "        System.out.println(String.format(\" <-> \\\"%s\\\" expected\", expectedValue));\n",
    "        if (convertedValue.equals(expectedValue)) {\n",
    "            System.out.println(\"Test passed!\");\n",
    "        } else {\n",
    "            System.out.println(\"Test failed!\");\n",
    "        }\n",
    "    }\n",
    "    \n",
    "    public static String toRoman(int i) {\n",
    "        if (i >= 1000) {\n",
    "            return \"M\" + toRoman(i - 1000);\n",
    "        }\n",
    "        if (i >= 900) {\n",
    "            return \"CM\" + toRoman(i - 900);\n",
    "        }\n",
    "        if (i >= 500) {\n",
    "            return \"D\" + toRoman(i - 500);\n",
    "        }\n",
    "        if (i >= 400) {\n",
    "            return \"CD\" + toRoman(i - 400);\n",
    "        }\n",
    "        if (i >= 100) {\n",
    "            return \"C\" + toRoman(i - 100);\n",
    "        }\n",
    "        if (i >= 90) {\n",
    "            return \"XC\" + toRoman(i - 90);\n",
    "        }\n",
    "        if (i >= 50) {\n",
    "            return \"L\" + toRoman(i - 50);\n",
    "        }\n",
    "        if (i >= 40) {\n",
    "            return \"XL\" + toRoman(i - 40);\n",
    "        }\n",
    "        if (i >= 10) {\n",
    "            return \"X\" + toRoman(i - 10);\n",
    "        }\n",
    "        if (i >= 9) {\n",
    "            return \"IX\" + toRoman(i - 9);\n",
    "        }\n",
    "        if (i >= 5) {\n",
    "            return \"V\" + toRoman(i - 5);\n",
    "        }\n",
    "        if (i >= 4) {\n",
    "            return \"IV\" + toRoman(i - 4);\n",
    "        }\n",
    "        if (i >= 1) {\n",
    "            return toRoman(i-1) + \"I\";\n",
    "        }\n",
    "        return \"\";\n",
    "    }\n",
    "    \n",
    "    public static void main(String[] args) {\n",
    "        testNumber(0, \"\");\n",
    "        testNumber(1, \"I\");\n",
    "        testNumber(2, \"II\");\n",
    "        testNumber(3, \"III\");\n",
    "        testNumber(4, \"IV\");\n",
    "        testNumber(5, \"V\");\n",
    "        testNumber(7, \"VII\");\n",
    "        testNumber(9, \"IX\");\n",
    "        testNumber(10, \"X\");\n",
    "        testNumber(323, \"CCCXXIII\");\n",
    "        testNumber(1989, \"MCMLXXXIX\");\n",
    "        testNumber(1998, \"MCMXCVIII\");\n",
    "    }\n",
    "}"
   ]
  },
  {
   "cell_type": "code",
   "execution_count": 16,
   "id": "2507ea6f",
   "metadata": {},
   "outputs": [
    {
     "name": "stdout",
     "output_type": "stream",
     "text": [
      "0 is converted to \"\" <-> \"\" expected\n",
      "Test passed!\n",
      "1 is converted to \"I\" <-> \"I\" expected\n",
      "Test passed!\n",
      "2 is converted to \"II\" <-> \"II\" expected\n",
      "Test passed!\n",
      "3 is converted to \"III\" <-> \"III\" expected\n",
      "Test passed!\n",
      "4 is converted to \"IV\" <-> \"IV\" expected\n",
      "Test passed!\n",
      "5 is converted to \"V\" <-> \"V\" expected\n",
      "Test passed!\n",
      "7 is converted to \"VII\" <-> \"VII\" expected\n",
      "Test passed!\n",
      "9 is converted to \"IX\" <-> \"IX\" expected\n",
      "Test passed!\n",
      "10 is converted to \"X\" <-> \"X\" expected\n",
      "Test passed!\n",
      "323 is converted to \"CCCXXIII\" <-> \"CCCXXIII\" expected\n",
      "Test passed!\n",
      "1989 is converted to \"MCMLXXXIX\" <-> \"MCMLXXXIX\" expected\n",
      "Test passed!\n",
      "1998 is converted to \"MCMXCVIII\" <-> \"MCMXCVIII\" expected\n",
      "Test passed!\n"
     ]
    }
   ],
   "source": [
    "RomanNumbers.main(new String[0]);"
   ]
  }
 ],
 "metadata": {
  "kernelspec": {
   "display_name": "Java",
   "language": "java",
   "name": "conda-env-ijava-java"
  },
  "language_info": {
   "codemirror_mode": "java",
   "file_extension": ".jshell",
   "mimetype": "text/x-java-source",
   "name": "Java",
   "pygments_lexer": "java",
   "version": "19.0.2+7"
  }
 },
 "nbformat": 4,
 "nbformat_minor": 5
}
