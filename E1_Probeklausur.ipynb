{
 "cells": [
  {
   "cell_type": "markdown",
   "metadata": {
    "deletable": false
   },
   "source": [
    "# Grundlagen der Programmierung  <br/> Probeklausur \n",
    "\n",
    "#### Marcel Lüthi, Andreas Morel-Forster <br/> Departement Mathematik und Informatik, Universität Basel\n",
    "\n",
    "Bearbeitungszeit: 30 Minuten"
   ]
  },
  {
   "cell_type": "markdown",
   "metadata": {
    "deletable": false
   },
   "source": [
    "In diesem Notebook üben Sie\n",
    "- wie die Zwischen- und Abschlussklausur ablaufen.\n",
    "- dass Sie regelmässig speichern.\n",
    "- wie ein Notebook an der Klausur aussieht.\n",
    "- was Sie beim Lösen der Klausur beachten müssen.\n",
    "- wie Sie den Safe Exam Browser bedienen.\n",
    "- wie Sie die Prüfung am Ende der Bearbeitung hochladen."
   ]
  },
  {
   "cell_type": "markdown",
   "metadata": {
    "deletable": false
   },
   "source": [
    "Es gibt folgende Regeln zu beachten:\n",
    "- Speichern Sie spätestens nach jeder Aufgabe das Notebook.\n",
    "- Ändern Sie vorgeschriebene Klassennamen nicht.\n",
    "- Schreiben Sie immer nur genau eine Klasse pro Zelle.\n",
    "- Sie dürfen beliebig viele weitere Zellen erstellen um Ihr Programm zu testen, die Lösung muss aber in der vorgegebenen Zelle an der vorgegebenen Stelle stehen."
   ]
  },
  {
   "cell_type": "markdown",
   "metadata": {},
   "source": [
    "Wenn Sie nicht deutscher Muttersprache sind können Sie Deepl benutzen um die Aufgaben zu übersetzen:\n",
    "\n",
    "* [Link zu Deepl](https://www.deepl.com/en/translator)"
   ]
  },
  {
   "cell_type": "markdown",
   "metadata": {},
   "source": [
    "Schreiben Sie in die nachfolgende Zelle Ihren Namen und E-Mail Adresse:"
   ]
  },
  {
   "cell_type": "markdown",
   "metadata": {},
   "source": [
    "Frieda Muster frieda.muster@unibas.ch"
   ]
  },
  {
   "cell_type": "markdown",
   "metadata": {
    "deletable": false
   },
   "source": [
    "### Aufgabe 1 - Gerade (2 Punkte)"
   ]
  },
  {
   "cell_type": "markdown",
   "metadata": {
    "deletable": false
   },
   "source": [
    "Schreiben Sie eine Methode `isEven` welche überprüft ob die übergebene Zahl gerade ist. Dabei soll für gerade Zahlen `\"X ist gerade.\"` ausgegeben werden und für alle ungeraden Zahlen `\"X ist ungerade.\"`.\n",
    "\n",
    "Mögliche Ausgaben sind:\n",
    "- `1 ist ungerade.`\n",
    "- `2 ist gerade.`\n",
    "- `7 ist ungerade.`"
   ]
  },
  {
   "cell_type": "code",
   "execution_count": null,
   "metadata": {
    "deletable": false,
    "exercise_id": 1
   },
   "outputs": [],
   "source": [
    "public class Even {\n",
    "    // Hier kommt Ihre Lösung hin\n",
    "    \n",
    "    public static void main(String[] args) {\n",
    "        // Rufen Sie Ihre Methoden hier auf\n",
    "    }\n",
    "}"
   ]
  },
  {
   "cell_type": "code",
   "execution_count": null,
   "metadata": {
    "deletable": false
   },
   "outputs": [],
   "source": [
    "Even.main(new String[0]);"
   ]
  },
  {
   "cell_type": "markdown",
   "metadata": {
    "deletable": false
   },
   "source": [
    "### Aufgabe 2 - Form (2 Punkte)"
   ]
  },
  {
   "cell_type": "markdown",
   "metadata": {
    "deletable": false
   },
   "source": [
    "![Kreuz](images/cross.png)\n",
    "\n",
    "Schreiben Sie eine Methode `isInside` welche für die Koordinate (`x`, `y`) prüft, ob diese innerhalb oder ausserhalb der im Bild gezeigten Form liegt. Innerhalb der Form soll der Wahrheitswert `true` zurück gegeben werden, sonst soll `false` zurück gegeben werden.\n",
    "\n",
    "- Die Koordinate können Sie als zwei Gleitkommazahlen repräsentieren.\n",
    "- Der Rand der Form ist immer auf einer ganzen Zahl.\n",
    "- Sie können wählen ob der Rand zur Form gehört oder nicht."
   ]
  },
  {
   "cell_type": "code",
   "execution_count": null,
   "metadata": {
    "deletable": false,
    "exercise_id": 2
   },
   "outputs": [],
   "source": [
    "public class Shape {\n",
    "    // Hier kommt Ihre Lösung hin\n",
    "    \n",
    "    public static void main(String[] args) {\n",
    "        // Rufen Sie Ihre Methoden hier auf\n",
    "    }\n",
    "}"
   ]
  },
  {
   "cell_type": "code",
   "execution_count": null,
   "metadata": {
    "deletable": false
   },
   "outputs": [],
   "source": [
    "Shape.main(new String[0]);"
   ]
  },
  {
   "cell_type": "markdown",
   "metadata": {
    "deletable": false
   },
   "source": [
    "### Aufgabe 3 - Rekursive Summe (3 Punkte)"
   ]
  },
  {
   "cell_type": "markdown",
   "metadata": {
    "deletable": false
   },
   "source": [
    "Schreiben Sie eine Methode `sumFromZeroTo` welche eine ganze Zahl übergeben bekommt. Die Methode soll alle ganzen Zahlen von 0 bis zur übergebenen Zahl summieren.\n",
    "\n",
    "Verwenden Sie nicht die Formel $\\sum\\limits_{n = 0}^Nn = \\frac{N \\dot (N+1)}{2}$."
   ]
  },
  {
   "cell_type": "code",
   "execution_count": null,
   "metadata": {
    "deletable": false,
    "exercise_id": 3
   },
   "outputs": [],
   "source": [
    "public class RecursiveSum {\n",
    "    // Hier kommt Ihre Lösung hin\n",
    "    \n",
    "    public static void main(String[] args) {\n",
    "        // Rufen Sie Ihre Methoden hier auf\n",
    "    }\n",
    "\n",
    "}"
   ]
  },
  {
   "cell_type": "code",
   "execution_count": null,
   "metadata": {
    "deletable": false
   },
   "outputs": [],
   "source": [
    "RecursiveSum.main(new String[0]);"
   ]
  },
  {
   "cell_type": "markdown",
   "metadata": {
    "deletable": false
   },
   "source": [
    "### Aufgabe 4: Ein-Mal-Eins (4 Punkte)\n",
    "\n",
    "Schreiben Sie eine Methode ```print```, welche als Argument eine Zahl ```n``` entgegennimmt. Es sollen dann für die ersten `n` Zahlen die ersten `n` Elemente der Multiplikationstabelle ausgegeben werden. Formatieren Sie die Ausgabe der Zahlen, so dass diese die Länge 4 haben. Dabei gilt:\n",
    "- Ganze Zahlen werde mit hilfe des Buchstabens `d` formatiert.\n",
    "- Die Länge wird als Zahl innerhalb der Formatierungsanweisung geschrieben.\n",
    "\n",
    "Beispiel mit `n = 4`\n",
    "```java\n",
    "1 2 3 4 \n",
    "2 4 6 8 \n",
    "3 6 9 12 \n",
    "4 8 12 16 \n",
    "```"
   ]
  },
  {
   "cell_type": "code",
   "execution_count": null,
   "metadata": {
    "deletable": false,
    "exercise_id": 4
   },
   "outputs": [],
   "source": [
    "public class MultiplicationTable {\n",
    "    // Ihre Lösung kommt hier hin\n",
    "    \n",
    "    public static void main(String[] args) {\n",
    "        // Rufen Sie Ihre Methoden hier auf\n",
    "    }\n",
    "\n",
    "}"
   ]
  },
  {
   "cell_type": "code",
   "execution_count": null,
   "metadata": {
    "deletable": false
   },
   "outputs": [],
   "source": [
    "MultiplicationTable.main(new String[0]);"
   ]
  },
  {
   "cell_type": "markdown",
   "metadata": {
    "deletable": false
   },
   "source": [
    "### Aufgabe 5: Benötigte Summanden (4 Punkte)\n",
    "\n",
    "Schreiben Sie eine Methode ```count```, welche als Argumente eine Zahl ```start``` und eine Zahl ```total``` entgegennimmt. Es soll dann gezählt werden, wieviele Zahlen aufsteigend von `start` summiert werden müssen, so dass die Summe grösser oder gleich `total` ist. Die Anzahl Summanden soll dann zurück gegeben werden."
   ]
  },
  {
   "cell_type": "code",
   "execution_count": null,
   "metadata": {
    "deletable": false,
    "exercise_id": 5
   },
   "outputs": [],
   "source": [
    "public class FindNeededNumbers {\n",
    "    // Ihre Lösung kommt hier hin\n",
    "    \n",
    "    public static void main(String[] args) {\n",
    "        // Rufen Sie Ihre Methoden hier auf\n",
    "    }\n",
    "\n",
    "}"
   ]
  },
  {
   "cell_type": "code",
   "execution_count": null,
   "metadata": {
    "deletable": false
   },
   "outputs": [],
   "source": [
    "FindNeededNumbers.main(new String[0]);"
   ]
  }
 ],
 "metadata": {
  "celltoolbar": "Edit Metadata",
  "exercise_series": "gdp",
  "kernelspec": {
   "display_name": "Java",
   "language": "java",
   "name": "java"
  },
  "language_info": {
   "codemirror_mode": "java",
   "file_extension": ".jshell",
   "mimetype": "text/x-java-source",
   "name": "Java",
   "pygments_lexer": "java",
   "version": "19.0.2+7"
  },
  "notebook_id": 104,
  "toc": {
   "base_numbering": 1,
   "nav_menu": {},
   "number_sections": false,
   "sideBar": false,
   "skip_h1_title": false,
   "title_cell": "Table of Contents",
   "title_sidebar": "Contents",
   "toc_cell": false,
   "toc_position": {},
   "toc_section_display": false,
   "toc_window_display": false
  }
 },
 "nbformat": 4,
 "nbformat_minor": 4
}
