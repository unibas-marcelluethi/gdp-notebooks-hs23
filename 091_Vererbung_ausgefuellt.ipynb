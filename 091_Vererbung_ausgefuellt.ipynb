{
 "cells": [
  {
   "cell_type": "markdown",
   "id": "e0c58392",
   "metadata": {},
   "source": [
    "# Vererbung\n",
    "#### Marcel Lüthi, Andreas Morel-Forster<br/>Departement Mathematik und Informatik, Universität Basel"
   ]
  },
  {
   "cell_type": "markdown",
   "id": "ab6c2e90",
   "metadata": {},
   "source": [
    "### Vererbung in Java\n",
    "\n",
    "Beim Programmieren modeliert man oft ein Teil der Welt. Es werden dann natürlich nur die Eigenschaften modeliert, welche im Programm benötigt werden.\n",
    "\n",
    "Vererbung kann verwendet werden um mehrere Klassen mit den selben Merkmalen auszustatten. Schauen wir uns die Eigenschaft \"kann fliegen\" an. Wir beginnen mal diese Eigenschaft als abstrakte Klasse zu definieren, welche das Verhalten implementiert."
   ]
  },
  {
   "cell_type": "markdown",
   "id": "52b95422",
   "metadata": {},
   "source": [
    "#### Miniübung\n",
    "Um Ihnen Tipparbeit zu sparen, sind Teile schon vorhande. Diese müssen Sie aber je nach Situation noch ändern und anpassen.\n",
    "\n",
    "- Implementieren Sie eine abstrakte Klasse `CanFly`.\n",
    "- Die Klasse soll eine Methode `fly` haben, die etwas übers Fliegen auf die Konsole ausgibt.\n",
    "- Leiten Sie eine Klasse `Bird` von dieser Klasse ab.\n",
    "- Benutzen Sie die Klasse `Bird` und rufen die geerbte Methode `fly` auf."
   ]
  },
  {
   "cell_type": "code",
   "execution_count": 1,
   "id": "3d8dd6cb",
   "metadata": {},
   "outputs": [],
   "source": [
    "// Ihre abstrakte Klasse kommt hier hin\n",
    "public abstract class CanFly {\n",
    "    void fly() {\n",
    "        System.out.println(\"I'm flying.\");\n",
    "    }\n",
    "}\n",
    "\n",
    "// Ihre Klasse Bird kommt hier hin\n",
    "public class Bird extends CanFly {}\n",
    "\n",
    "public class Application {\n",
    "    public static void main(String[] args) {\n",
    "        // Benutzen Sie Ihre Klasse hier und rufen Sie fly auf\n",
    "        new Bird().fly();\n",
    "    }\n",
    "}"
   ]
  },
  {
   "cell_type": "code",
   "execution_count": 2,
   "id": "c6fe139c",
   "metadata": {},
   "outputs": [
    {
     "name": "stdout",
     "output_type": "stream",
     "text": [
      "I'm flying.\r\n"
     ]
    }
   ],
   "source": [
    "Application.main(new String[0]);"
   ]
  },
  {
   "cell_type": "markdown",
   "id": "7b45a80f",
   "metadata": {},
   "source": [
    "Flugzeuge können auch fliegen. Wir profitieren hier von der abstrakten Klasse `CanFly`."
   ]
  },
  {
   "cell_type": "markdown",
   "id": "e86e141a",
   "metadata": {},
   "source": [
    "#### Miniübung\n",
    "\n",
    "- Implementieren Sie eine Klasse `Airplane` welche auch von `CanFly` erbt.\n",
    "- Erstellen Sie ein Array, welches ein Flugzeung und ein Vogel als Elemente hat.\n",
    "- Iterieren Sie über das Array und rufen Sie auf jedem Element die Methode `fly` auf."
   ]
  },
  {
   "cell_type": "code",
   "execution_count": 3,
   "id": "fbc27c86",
   "metadata": {},
   "outputs": [],
   "source": [
    "// Ihre Klasse Airplane kommt hier hin\n",
    "public class Airplane extends CanFly {}\n",
    "\n",
    "public class Application {\n",
    "    public static void main(String[] args) {\n",
    "        // Erstellen und benutzen Sie das Array hier\n",
    "        CanFly[] squadron = {new Bird(), new Airplane()};\n",
    "        \n",
    "        for(CanFly wingman : squadron) {\n",
    "            wingman.fly();\n",
    "        }\n",
    "    }\n",
    "}"
   ]
  },
  {
   "cell_type": "code",
   "execution_count": 4,
   "id": "2d1f071c",
   "metadata": {},
   "outputs": [
    {
     "name": "stdout",
     "output_type": "stream",
     "text": [
      "I'm flying.\n",
      "I'm flying.\n"
     ]
    }
   ],
   "source": [
    "Application.main(new String[0]);"
   ]
  },
  {
   "cell_type": "markdown",
   "id": "05bc2ccd",
   "metadata": {},
   "source": [
    "Klassen mit nur einer Eigenschaft sind etwas langweilig. Eine zweite Eigenschaft von Vögeln ist, dass sie Essen müssen."
   ]
  },
  {
   "cell_type": "markdown",
   "id": "ae2a2e61",
   "metadata": {},
   "source": [
    "#### Miniübung\n",
    "- Schreiben Sie eine abstrakte Klasse `NeedsFood`.\n",
    "- Die Klasse soll eine Methode `eat` haben, welche etwas übers Essen auf die Konsole ausgibt."
   ]
  },
  {
   "cell_type": "code",
   "execution_count": 5,
   "id": "b3227bc4",
   "metadata": {},
   "outputs": [],
   "source": [
    "public abstract class NeedsFood {\n",
    "    void eat() {\n",
    "        System.out.println(\"I need something to eat.\");\n",
    "    }\n",
    "}"
   ]
  },
  {
   "cell_type": "markdown",
   "id": "6f1f4609",
   "metadata": {},
   "source": [
    "#### Miniübung\n",
    "- Erstellen Sie eine Klasse `HungryBird` die fliegen kann und etwas zu Essen braucht."
   ]
  },
  {
   "cell_type": "code",
   "execution_count": 6,
   "id": "ad0a6ede",
   "metadata": {},
   "outputs": [],
   "source": [
    "// Hier kommt ihre Klasse HungryBird hin\n",
    "public class HungryBird extends CanFly /* Mehrfachverebung nicht erlaubt */ { }\n",
    "\n",
    "public class Application {\n",
    "    public static void main(String[] args) {\n",
    "        HungryBird bird = new HungryBird();\n",
    "        // bird.fly();   \n",
    "        // bird.eat(); // geht nicht mit zwei abstrakten Klassen\n",
    "    }\n",
    "}"
   ]
  },
  {
   "cell_type": "code",
   "execution_count": 7,
   "id": "5089804f",
   "metadata": {},
   "outputs": [],
   "source": [
    "Application.main(new String[0]);"
   ]
  },
  {
   "cell_type": "markdown",
   "id": "bacb92d2",
   "metadata": {},
   "source": [
    ">Klassen können in Java nur von einer Klassen erben, aber mehrere Interfaces implementieren.\n",
    "\n",
    "Mehrfachvererbung ist in gewissen anderen Programmiersprachen erlaubt, nicht aber in Java. In Java können Klassen jedoch mehrere Interfaces implementieren."
   ]
  },
  {
   "cell_type": "markdown",
   "id": "d6e9a040",
   "metadata": {},
   "source": [
    "### Interfaces\n",
    "\n",
    "#### Miniübung\n",
    "- Deklarieren Sie das passende Interface `NeedsFood`.\n",
    "- Ergänzen Sie die Klasse HungryBird, so dass diese die beiden Interfaces `CanFly` und `NeedsFood` implementiert."
   ]
  },
  {
   "cell_type": "code",
   "execution_count": 8,
   "id": "70aa3978",
   "metadata": {},
   "outputs": [],
   "source": [
    "public interface CanFly {\n",
    "    void fly();\n",
    "}\n",
    "\n",
    "// Hier kommt das Interface NeedsFood hin\n",
    "public interface NeedsFood {\n",
    "    void eat();\n",
    "}\n",
    "\n",
    "// Ergänzen Sie die Klasse HungryBird\n",
    "public class HungryBird implements CanFly, NeedsFood {\n",
    "    @Override\n",
    "    public void fly() {\n",
    "        System.out.println(\"I'm flying.\");\n",
    "    }\n",
    "    \n",
    "    @Override\n",
    "    public void eat() {\n",
    "        System.out.println(\"I need something to eat.\");\n",
    "    }\n",
    "}\n",
    "\n",
    "public class Application {\n",
    "    public static void main(String[] args) {\n",
    "        HungryBird hb = new HungryBird();\n",
    "        hb.fly();\n",
    "        hb.eat();\n",
    "    }\n",
    "}"
   ]
  },
  {
   "cell_type": "code",
   "execution_count": 9,
   "id": "d7a40b73",
   "metadata": {},
   "outputs": [
    {
     "name": "stdout",
     "output_type": "stream",
     "text": [
      "I'm flying.\n",
      "I need something to eat.\n"
     ]
    }
   ],
   "source": [
    "Application.main(new String[0]);"
   ]
  },
  {
   "cell_type": "markdown",
   "id": "79c459fd",
   "metadata": {},
   "source": [
    "Interfaces können nicht nur Methoden Deklarationen enthalten. Tatsächlich ermöglicht es Java seit Version 8, dass Interfaces eine `default` Implementation für Methoden angeben.\n",
    "\n",
    "Wir können also unsere Idee mit den abstrakten Klassen als Interfaces umsetzen.\n",
    "\n",
    "#### Miniübung\n",
    "- Schreiben Sie eine `default` Implementation für die beiden Methoden direkt in den Interfaces.\n",
    "- Ergänzen Sie die Klasse `HungryBird`."
   ]
  },
  {
   "cell_type": "code",
   "execution_count": 10,
   "id": "53c21040",
   "metadata": {},
   "outputs": [],
   "source": [
    "public interface CanFly {\n",
    "    default void fly() {\n",
    "        System.out.println(\"I'm flying.\");\n",
    "    }\n",
    "}\n",
    "\n",
    "public interface NeedsFood {\n",
    "    default void eat() {\n",
    "        System.out.println(\"I need something to eat.\");\n",
    "    }\n",
    "}\n",
    "\n",
    "public class HungryBird implements CanFly, NeedsFood { }\n",
    "\n",
    "public class Application {\n",
    "    public static void main(String[] args) {\n",
    "        HungryBird hb = new HungryBird();\n",
    "        hb.fly();\n",
    "        hb.eat();\n",
    "    }\n",
    "}"
   ]
  },
  {
   "cell_type": "code",
   "execution_count": 11,
   "id": "da951eed",
   "metadata": {
    "scrolled": true
   },
   "outputs": [
    {
     "name": "stdout",
     "output_type": "stream",
     "text": [
      "I'm flying.\n",
      "I need something to eat.\n"
     ]
    }
   ],
   "source": [
    "Application.main(new String[0]);"
   ]
  },
  {
   "cell_type": "markdown",
   "id": "fd0f4714",
   "metadata": {},
   "source": [
    "#### (Mini-)übung\n",
    "\n",
    "- Implementieren Sie ein Interface `HasFruits` mit einer Methode `gather` die eine Frucht zurück gibt.\n",
    "- Implementieren Sie eine abstrakte Klasse `Tree` welche eine Methode `height` hat, die die Höhe eines Baumes 20 (Meter) zurückgibt.\n",
    "- Implementieren Sie einen Klasse `Apple`, die von Frucht erbt und als Farbe grün zurück gibt.\n",
    "- Implementieren Sie die Klasse `AppleTree` die von der Klasse Baum erbt und das Interface `HasFruits` implementiert und eine Höhe von 8 Meter hat.\n",
    "- Erstellen Sie von Ihrem Apfelbaum eine Instanz. Geben Sie die Höhe aus. Weisen Sie dann Ihren Baum einer Variable vom Typ `Tree` zu und geben die Höhe dieses neuen Baumes aus. Was beobachten Sie?\n",
    "- Von welchen Typen können Sie Instanzen erzeugen?\n",
    "- Objekte von welchem Typ können Sie Variablen von welchen Typen zuweisen?\n",
    "- `Mushroom` implementiert die Methoden und Felder wie die Klasse `Tree` oder das Interface `HasFruits`. Können Sie ein Objekt der Klasse `Mushroom` einem anderen Typ zuweisen?\n",
    "- Erstellen Sie ein Array von Früchten. Erstellen Sie jedoch keine Früchte direkt, sonder benützen Sie die Pflanzen.\n",
    "- Iterieren Sie über das Array und geben Sie die Farben der Früchten aus.\n",
    "- Können Sie ein Array von Apfelbäumen einem Array von einem Anderen Typ zuordnen?\n",
    "- Wenn Sie das Array von Apfelbäumen einem Array von `Object` zuordnen, können Sie dann ein Instanz der Klasse `String`, welche auch von `Object` abgeleitet ist, zuordnen?\n"
   ]
  },
  {
   "cell_type": "code",
   "execution_count": 17,
   "id": "a073d46a",
   "metadata": {},
   "outputs": [],
   "source": [
    "interface Fruit {\n",
    "    String color();\n",
    "}\n",
    "\n",
    "// Hier kommt das Interface HasFruits hin\n",
    "interface HasFruits {\n",
    "    Fruit gather();\n",
    "}\n",
    "\n",
    "public abstract class Bush {\n",
    "    public int numberOfBirdNests = 0;\n",
    "    \n",
    "    abstract boolean providesBirdFood();\n",
    "}\n",
    "\n",
    "// Hier kommt Ihre Klasse Tree hin\n",
    "public abstract class Tree {\n",
    "    public float height() {\n",
    "      return 20;  \n",
    "    } \n",
    "    \n",
    "    abstract boolean hasLeaves();\n",
    "}\n",
    "\n",
    "public class Honeysuckle implements Fruit {\n",
    "    @Override\n",
    "    public String color() {\n",
    "        return \"red\";\n",
    "    }\n",
    "}\n",
    "\n",
    "// Hier kommt Ihre Klasse Apple hin\n",
    "public class Apple implements Fruit {\n",
    "    @Override\n",
    "    public String color() {\n",
    "        return \"green\";\n",
    "    }\n",
    "}\n",
    "\n",
    "public class RedHoneysuckle extends Bush implements HasFruits {\n",
    "    @Override\n",
    "    public Fruit gather() {\n",
    "        return new Honeysuckle();\n",
    "    }\n",
    "    \n",
    "    @Override\n",
    "    public boolean providesBirdFood() {\n",
    "        return true;\n",
    "    }\n",
    "}\n",
    "\n",
    "// Ihre Implementation des Apfelbaumes kommt hier hin.\n",
    "public class AppleTree extends Tree implements HasFruits {\n",
    "    \n",
    "    @Override \n",
    "    public float height() { \n",
    "        return 8;\n",
    "    }\n",
    "    \n",
    "    @Override\n",
    "    public Fruit gather() {\n",
    "        return new Apple();\n",
    "    }\n",
    "    \n",
    "    @Override\n",
    "    boolean hasLeaves() {\n",
    "        return true;\n",
    "    }\n",
    "}\n",
    "\n",
    "\n",
    "public class Muheightshroom {\n",
    "    public float height() {\n",
    "        return 0.1f;\n",
    "    }\n",
    "    public boolean hasLeaves() {\n",
    "        return false;\n",
    "    }\n",
    "    \n",
    "    public Fruit gather() {\n",
    "        return new Fruit() {\n",
    "            @Override\n",
    "            public String color() {\n",
    "                return \"brown\";\n",
    "            }\n",
    "        };\n",
    "    }\n",
    "}\n",
    "\n",
    "\n",
    "public class Application {\n",
    "    public static void main(String[] args) {\n",
    "        // Hier kommen Ihre Tests hin\n",
    "        \n",
    "        AppleTree smallTree = new AppleTree();\n",
    "        Tree someTree = smallTree;\n",
    "        System.out.println(smallTree.height());\n",
    "        System.out.println(someTree.height()); \n",
    "        \n",
    "        //new Fruit(); // ... is abstract; cannot be instantiated\n",
    "        //new HasFruits(); // ... is abstract; cannot be instantiated\n",
    "        //new Bush(); // ... is abstract; cannot be instantiated\n",
    "        //new Tree(); // ... is abstract; cannot be instantiated\n",
    "        new Honeysuckle();\n",
    "        new Apple();\n",
    "        new RedHoneysuckle();\n",
    "        new AppleTree();\n",
    "        new Mushroom();\n",
    "        \n",
    "        Honeysuckle hs = new Honeysuckle();\n",
    "        Fruit fhs = hs;\n",
    "        Object ohs = hs;\n",
    "        \n",
    "        Apple a = new Apple();\n",
    "        Fruit fa = a;\n",
    "        Object oa = a;\n",
    "        \n",
    "        RedHoneysuckle rh = new RedHoneysuckle();\n",
    "        Bush brh = rh;\n",
    "        HasFruits hfrh = rh;\n",
    "        Object orh = rh;\n",
    "        \n",
    "        AppleTree at = new AppleTree();\n",
    "        Tree tat = at;\n",
    "        HasFruits hfat = at;\n",
    "        Object oat = at;\n",
    "        \n",
    "        Mushroom mr = new Mushroom();\n",
    "        //Tree tmr = mr; // cannot be converted to Tree\n",
    "        //HasFruits hfmr = mr; // cannot be converted to HasFruits\n",
    "        \n",
    "        Fruit[] fruits = { rh.gather(), at.gather(), hfrh.gather(), hfat.gather(), mr.gather() };\n",
    "        for(Fruit fruit: fruits) {\n",
    "            System.out.println(fruit.color());\n",
    "        }\n",
    "        \n",
    "        AppleTree[] appleTrees = { new AppleTree(), new AppleTree()};\n",
    "        HasFruits[] withLeaves = appleTrees;\n",
    "        Tree[] trees = appleTrees;\n",
    "        Object[] objects = appleTrees;\n",
    "        AppleTree[] someTrees = (AppleTree[]) objects;\n",
    "        \n",
    "        System.out.println(objects[0] instanceof AppleTree);\n",
    "        \n",
    "        //objects[0] = new String(\"villain\"); // not allowed, violates the initial array type\n",
    "        \n",
    "    }\n",
    "}"
   ]
  },
  {
   "cell_type": "code",
   "execution_count": 18,
   "id": "2a8cbd6c",
   "metadata": {},
   "outputs": [
    {
     "name": "stdout",
     "output_type": "stream",
     "text": [
      "8.0\n",
      "8.0\n",
      "red\n",
      "green\n",
      "red\n",
      "green\n",
      "brown\n",
      "true\n"
     ]
    }
   ],
   "source": [
    "Application.main(new String[0]);"
   ]
  },
  {
   "cell_type": "code",
   "execution_count": null,
   "id": "7a72443a",
   "metadata": {},
   "outputs": [],
   "source": []
  }
 ],
 "metadata": {
  "kernelspec": {
   "display_name": "Java",
   "language": "java",
   "name": "conda-env-ijava-java"
  },
  "language_info": {
   "codemirror_mode": "java",
   "file_extension": ".jshell",
   "mimetype": "text/x-java-source",
   "name": "Java",
   "pygments_lexer": "java",
   "version": "19.0.2+7"
  }
 },
 "nbformat": 4,
 "nbformat_minor": 5
}
