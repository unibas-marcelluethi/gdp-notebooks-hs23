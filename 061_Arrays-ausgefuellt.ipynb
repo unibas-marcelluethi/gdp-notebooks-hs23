{
 "cells": [
  {
   "cell_type": "markdown",
   "metadata": {},
   "source": [
    "# Arrays\n",
    "#### Marcel Lüthi, Andreas Morel-Forster<br/>Departement Mathematik und Informatik, Universität Basel"
   ]
  },
  {
   "cell_type": "markdown",
   "metadata": {},
   "source": [
    "### Main Methode und Aufruf der Main Methode\n",
    "\n",
    "Wir haben in unseren Programmen immer eine Main Methode mit folgender Signatur geschrieben \n",
    "\n",
    "```\n",
    "class Example {\n",
    "    public static void main(String[] args) {}\n",
    "}\n",
    "    \n",
    "```\n",
    "\n",
    "und das Programm dann mit dem Aufruf \n",
    "```\n",
    "Example.main(new String[0])\n",
    "```\n",
    "gestartet. \n"
   ]
  },
  {
   "cell_type": "markdown",
   "metadata": {},
   "source": [
    "#### Miniübung \n",
    "\n",
    "* Implementieren Sie die main-Methode so, dass alle in `args` übergebenen Argumente ausgegeben werden. \n",
    "* Rufen Sie das Programm dann mit verschiedenen Argumenten auf. \n",
    "\n"
   ]
  },
  {
   "cell_type": "code",
   "execution_count": 61,
   "metadata": {},
   "outputs": [],
   "source": [
    "class Example {\n",
    "    public static void main(String[] args) {\n",
    "        for (String arg : args) {\n",
    "            System.out.println(arg);\n",
    "        }\n",
    "    }\n",
    "}"
   ]
  },
  {
   "cell_type": "code",
   "execution_count": 63,
   "metadata": {},
   "outputs": [
    {
     "name": "stdout",
     "output_type": "stream",
     "text": [
      "arg1\n",
      "arg2\n"
     ]
    }
   ],
   "source": [
    "Example.main(new String[]{\"arg1\", \"arg2\"});"
   ]
  },
  {
   "cell_type": "markdown",
   "metadata": {},
   "source": [
    "### Ausgeben von Arrays\n",
    "\n",
    "Wenn wir ein Array mit `System.out.println` ausgeben wollen, erhalten wir nicht ein Array, sondern eine Ausgabe eines seltsamen Werts:"
   ]
  },
  {
   "cell_type": "code",
   "execution_count": 64,
   "metadata": {},
   "outputs": [],
   "source": [
    "class ArrayPrint {\n",
    "\n",
    "    public static void main(String[] args) {\n",
    "        int[] a = {1, 2, 3};\n",
    "        System.out.println(a);\n",
    "    }\n",
    "}"
   ]
  },
  {
   "cell_type": "code",
   "execution_count": 65,
   "metadata": {},
   "outputs": [
    {
     "name": "stdout",
     "output_type": "stream",
     "text": [
      "[I@26eb34c8\n"
     ]
    }
   ],
   "source": [
    "ArrayPrint.main(new String[0]);"
   ]
  },
  {
   "cell_type": "markdown",
   "metadata": {},
   "source": [
    "Damit der Inhalt von Arrays ausgegeben wird, können wir die in Java definierte Methode `Arrays.toString` verwenden:"
   ]
  },
  {
   "cell_type": "code",
   "execution_count": 66,
   "metadata": {},
   "outputs": [
    {
     "name": "stdout",
     "output_type": "stream",
     "text": [
      "[1, 2, 3]\n"
     ]
    }
   ],
   "source": [
    "class ArrayPrint2 {\n",
    "\n",
    "    public static void main(String[] args) {\n",
    "        int[] a = {1, 2, 3};\n",
    "        System.out.println(Arrays.toString(a));\n",
    "    }\n",
    "}\n",
    "\n",
    "ArrayPrint2.main(new String[0]);"
   ]
  },
  {
   "cell_type": "markdown",
   "metadata": {},
   "source": [
    "#### Miniübung\n",
    "\n",
    "* Funktioniert dies auch für Mehrdimensionale Arrays? Experimentieren Sie. \n",
    "    * Finden Sie eine Methode in `Arrays` welche Ihnen hilft? Hinweis: Schreiben Sie `Arrays.` und drücken Sie dann die Tab-Taste"
   ]
  },
  {
   "cell_type": "markdown",
   "metadata": {},
   "source": [
    "### Referenzen - Alles klar?\n",
    "\n",
    "Überlegen Sie zuerst bevor Sie die Zellen ausführen: Was wird bei den Folgenden Programmen ausgegeben? Deckt sich die Ausgabe mit Ihrer Erwartung? Können Sie das Beobachtete erklären?"
   ]
  },
  {
   "cell_type": "markdown",
   "metadata": {},
   "source": [
    "#### Beispiel 1"
   ]
  },
  {
   "cell_type": "code",
   "execution_count": 67,
   "metadata": {},
   "outputs": [],
   "source": [
    "public class References {\n",
    "\n",
    "    public static void hiddenAdder(int[] array) {\n",
    "        array[2] = array[0] + array[1];\n",
    "    }\n",
    "    \n",
    "    public static void main(String[] args) {\n",
    "        int[] array = new int[]{1, 2, 0};\n",
    "        hiddenAdder(array);\n",
    "        System.out.println(Arrays.toString(array));\n",
    "    }\n",
    "}"
   ]
  },
  {
   "cell_type": "code",
   "execution_count": 68,
   "metadata": {},
   "outputs": [
    {
     "name": "stdout",
     "output_type": "stream",
     "text": [
      "[1, 2, 3]\n"
     ]
    }
   ],
   "source": [
    "References.main(new String[0]);"
   ]
  },
  {
   "cell_type": "markdown",
   "metadata": {},
   "source": [
    "#### Beispiel 2"
   ]
  },
  {
   "cell_type": "code",
   "execution_count": 69,
   "metadata": {},
   "outputs": [],
   "source": [
    "public class References {\n",
    "\n",
    "    public static void hiddenAdder(int[] array) {\n",
    "        array = new int[]{1, 2, 3};\n",
    "    }\n",
    "    \n",
    "    public static void main(String[] args) {\n",
    "        int[] array = new int[]{1, 2, 0};\n",
    "        hiddenAdder(array);\n",
    "        System.out.println(Arrays.toString(array));\n",
    "    }\n",
    "}"
   ]
  },
  {
   "cell_type": "code",
   "execution_count": 70,
   "metadata": {},
   "outputs": [
    {
     "name": "stdout",
     "output_type": "stream",
     "text": [
      "[1, 2, 0]\n"
     ]
    }
   ],
   "source": [
    "References.main(new String[0]);"
   ]
  },
  {
   "cell_type": "markdown",
   "metadata": {},
   "source": [
    "#### Beispiel 3"
   ]
  },
  {
   "cell_type": "code",
   "execution_count": 71,
   "metadata": {},
   "outputs": [],
   "source": [
    "public class References2d {\n",
    "\n",
    "    public static void hiddenAdder(int[][] array) {\n",
    "        array[0][2] = array[0][0] + array[0][1];\n",
    "    }\n",
    "    \n",
    "    public static void main(String[] args) {\n",
    "        int[][] array = new int[][]{{1, 2, 0}};\n",
    "        hiddenAdder(array);\n",
    "        System.out.println(Arrays.deepToString(array));\n",
    "    }\n",
    "}"
   ]
  },
  {
   "cell_type": "code",
   "execution_count": 72,
   "metadata": {},
   "outputs": [
    {
     "name": "stdout",
     "output_type": "stream",
     "text": [
      "[[1, 2, 3]]\n"
     ]
    }
   ],
   "source": [
    "References2d.main(new String[0]);"
   ]
  },
  {
   "cell_type": "markdown",
   "metadata": {},
   "source": [
    "#### Beispiel 4"
   ]
  },
  {
   "cell_type": "code",
   "execution_count": 73,
   "metadata": {},
   "outputs": [],
   "source": [
    "public class References2d {\n",
    "\n",
    "    public static void hiddenAdder(int[][] array) {\n",
    "        array[0] = new int[]{1, 2, 3};\n",
    "    }\n",
    "    \n",
    "    public static void main(String[] args) {\n",
    "        int[][] array = new int[][]{{1, 2, 0}};\n",
    "        hiddenAdder(array);\n",
    "        System.out.println(Arrays.deepToString(array));\n",
    "    }\n",
    "}"
   ]
  },
  {
   "cell_type": "code",
   "execution_count": 74,
   "metadata": {},
   "outputs": [
    {
     "name": "stdout",
     "output_type": "stream",
     "text": [
      "[[1, 2, 3]]\n"
     ]
    }
   ],
   "source": [
    "References2d.main(new String[0]);"
   ]
  },
  {
   "cell_type": "markdown",
   "metadata": {},
   "source": [
    "### Initialisierung 2d-Array\n",
    "- Erstellen Sie ein zweidimensionales Array, für welches folgendes gilt: ```a[i].length = i``` wobei ```i``` ein ganzzahliger Index ist, welcher von ```0``` bis ```9``` läuft.\n",
    "- Füllen Sie die Arrays jeweils mit den Zahlen von `0` aufsteigend bis `i`."
   ]
  },
  {
   "cell_type": "code",
   "execution_count": 75,
   "metadata": {},
   "outputs": [
    {
     "name": "stdout",
     "output_type": "stream",
     "text": [
      "[[], [0], [0, 1], [0, 1, 2], [0, 1, 2, 3], [0, 1, 2, 3, 4], [0, 1, 2, 3, 4, 5], [0, 1, 2, 3, 4, 5, 6], [0, 1, 2, 3, 4, 5, 6, 7], [0, 1, 2, 3, 4, 5, 6, 7, 8]]\n"
     ]
    }
   ],
   "source": [
    "public class TriangleArray {    \n",
    "\n",
    "    public static void main(String[] args) {\n",
    "        \n",
    "        // Ihre Lösung kommt hier hin\n",
    "        int numberOfArray = 10;\n",
    "        int[][] a = new int[numberOfArray][];\n",
    "        for(int i = 0; i < a.length; i = i + 1) {\n",
    "            a[i] = new int[i];\n",
    "            for(int j = 0; j < a[i].length; j = j + 1) {\n",
    "                a[i][j] = j;\n",
    "            }\n",
    "        }\n",
    "        \n",
    "        \n",
    "        System.out.println(Arrays.deepToString(a));\n",
    "    }\n",
    "}\n",
    "\n",
    "TriangleArray.main(new String[0]);"
   ]
  },
  {
   "cell_type": "markdown",
   "metadata": {},
   "source": [
    "### Array vs. String\n",
    "\n",
    "Strings sind im Prinzip nicht viel mehr als ein Array von Zeichen und noch jede Menge nützlicher Funktionen.\n",
    "\n",
    "Die Länge eines Strings `s` bekommen Sie mit der Methode `s.length()`. Anders als bei einem Array `a` wo die Länge mit `a.length`, also ohne Klammern abgefragt wird.\n",
    "\n",
    "Auch auf ein Element, also ein Buchstaben, können Sie bei einem String zugreifen. Um auf das `i`-te Element zuzugreifen benötigen Sie bei einem Array `a` die eckigen Klammern `a[i]`, bei einem String `s` jedoch die Methode `s.charAt(i)`."
   ]
  },
  {
   "cell_type": "markdown",
   "metadata": {},
   "source": [
    "#### Miniübung\n",
    "- Ergänzen Sie die Methode `reverse` welche einen als `String` übergebenen Text umgedreht und zurück gibt.\n",
    "- Versuchen Sie eine `for`-Schleife zu verwenden, welche von hinten nach vorne über die Buchstaben iteriert."
   ]
  },
  {
   "cell_type": "code",
   "execution_count": 76,
   "metadata": {},
   "outputs": [],
   "source": [
    "public class Reverse {\n",
    "    public static String reverse(String forward) {\n",
    "        String backwards = \"\";\n",
    "        \n",
    "        // Ihre Lösung kommt hier hin\n",
    "        for (int idx = forward.length() - 1 ; idx >= 0 ; idx = idx - 1) {\n",
    "            backwards = backwards + forward.charAt(idx);\n",
    "        }\n",
    "        \n",
    "        return backwards;\n",
    "    }\n",
    "    \n",
    "    public static void main(String[] args) {\n",
    "        System.out.println(reverse(\"!ednenehcoW tsi dlab - repuS\"));\n",
    "    }\n",
    "}"
   ]
  },
  {
   "cell_type": "code",
   "execution_count": 77,
   "metadata": {},
   "outputs": [
    {
     "name": "stdout",
     "output_type": "stream",
     "text": [
      "Super - bald ist Wochenende!\n"
     ]
    }
   ],
   "source": [
    "Reverse.main(new String[0]);"
   ]
  }
 ],
 "metadata": {
  "kernelspec": {
   "display_name": "Java",
   "language": "java",
   "name": "java"
  },
  "language_info": {
   "codemirror_mode": "java",
   "file_extension": ".jshell",
   "mimetype": "text/x-java-source",
   "name": "Java",
   "pygments_lexer": "java",
   "version": "17.0.8+9-LTS-jvmci-23.0-b14"
  }
 },
 "nbformat": 4,
 "nbformat_minor": 5
}
