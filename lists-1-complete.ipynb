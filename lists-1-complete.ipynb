{
 "cells": [
  {
   "cell_type": "markdown",
   "id": "02395950",
   "metadata": {},
   "source": [
    "# Listen\n",
    "\n",
    "#### Andreas Morel-Forster, Marcel Lüthi</br>Departement Mathematik und Informatik, Universität Basel"
   ]
  },
  {
   "cell_type": "markdown",
   "id": "e814204c",
   "metadata": {},
   "source": [
    "In diesem Arbeitsblatt führen wir ein Beispiel ein, welches uns bis zum Ende des Semesters beschäftigen wird. \n",
    "Wir werden unsere eigenen Listenklassen schreiben. In diesem ersten Teil bauen wir uns zwei einfache Implementationen von Listen, die Elemente vom Typ `double ` verwalten können. Wir verwenden dazu zwei verschiedene Datenstrukturen, nämlich verkettete Listen und Arrays. "
   ]
  },
  {
   "cell_type": "markdown",
   "id": "ea85a956",
   "metadata": {},
   "source": [
    "### Teil 1: Operationen auf Listen "
   ]
  },
  {
   "cell_type": "markdown",
   "id": "aa8f3923",
   "metadata": {},
   "source": [
    "Die Array-Klasse in Java hat grosse Limitierungen:\n",
    "\n",
    "* Die Grösse des Arrays ist fix. \n",
    "* Das Array kann nicht einfach ausgegeben werden. \n",
    "* Vergleiche von Arrays sind schwierig. \n",
    "\n",
    "Wir werden uns deshalb eine eigene Listenklasse schreiben, die diese Probleme behebt. Da es verschiedene mögliche Implementationen von Listen gibt, wollen wir uns noch nicht auf eine festlegen, sondern erst mal definieren, was eine Liste überhaupt können muss. Dies machen wir mit einem Interface. \n",
    "\n",
    "Java stellt uns bereits Listen zur Verfügung. Diese sind in der [Java API Dokumentation](https://docs.oracle.com/en/java/javase/17/docs/api/java.base/java/util/List.html) dokumentiert. Wir orientieren uns an den von Java zur Verfügung gestellten Operationen. "
   ]
  },
  {
   "cell_type": "code",
   "execution_count": 2,
   "id": "0e560019",
   "metadata": {},
   "outputs": [],
   "source": [
    "interface List {\n",
    "    \n",
    "    /**\n",
    "      * Appends an element to the end of the list\n",
    "      */\n",
    "    void add(double element);\n",
    "    \n",
    "    /**\n",
    "      * returns the number of elements in the list\n",
    "      */\n",
    "    int size();\n",
    "    \n",
    "    /**\n",
    "      * gets the element at position i\n",
    "      */\n",
    "    double get(int index);\n",
    "    \n",
    "    /**\n",
    "      * sets the element at position i\n",
    "      */\n",
    "    void set(int index, double element);\n",
    "    \n",
    "    /**\n",
    "      * Returns an array representation of the given list;\n",
    "      */\n",
    "    double[] toArray();\n",
    "    \n",
    "}"
   ]
  },
  {
   "cell_type": "markdown",
   "id": "1356236e",
   "metadata": {},
   "source": [
    "*Hinweis:* Wir nutzen hier das spezielle Kommentarzeichen `/** */` um Kommentare zu schreiben. Diese Kommentare können vom `javadoc`-Tool, das Teil der Java Entwicklungsumgebung ist, in HTML umgewandelt werden. Damit können wir Dokumentationen wie diese [hier](https://docs.oracle.com/en/java/javase/17/docs/api/java.base/java/util/List.html) erstellen. "
   ]
  },
  {
   "cell_type": "markdown",
   "id": "4c8cc89c",
   "metadata": {},
   "source": [
    "Obwohl wir noch keine Implementation dieses Interfaces haben, können wir bereits Funktionen schreiben, welche die zur Verfügung gestellten Listenoperationen nutzen. *Wir programmieren einfach gegen das Interface*. \n",
    "\n",
    "Als Beispiel programmieren wir zwei nützliche Werkzeuge zum Arbeiten mit Listen. Die erste Funktion nimmt eine leere Liste und fügt equidistante Zahlen in einem vorgegebenen Interval ein. Die zweite Funktion berechnet den Durchschnittswert der Elemente in einer Liste. "
   ]
  },
  {
   "cell_type": "code",
   "execution_count": 3,
   "id": "e8d66d2e",
   "metadata": {},
   "outputs": [],
   "source": [
    "class ListTools {\n",
    "\n",
    "    static void addNumbersInRange(List l, double from, double to, int size) {\n",
    "        double dist = (to - from) / size;\n",
    "        for (int i = 0; i <= size; i = i + 1) {\n",
    "            double current = from + i * dist;\n",
    "            l.add(current);\n",
    "        }\n",
    "    }\n",
    "\n",
    "    static double computeAverageValue(List numbers) {\n",
    "        double sum = 0.0;\n",
    "        for (int i = 0; i < numbers.size(); i = i + 1) {\n",
    "            sum += numbers.get(i);\n",
    "        }\n",
    "        return sum / numbers.size();\n",
    "    }\n",
    "}"
   ]
  },
  {
   "cell_type": "markdown",
   "id": "d3ac767b",
   "metadata": {},
   "source": [
    "### Teil 2 : Verkettete Listen"
   ]
  },
  {
   "cell_type": "markdown",
   "id": "7ab0b9e3",
   "metadata": {},
   "source": [
    "Nun wollen wir das Listeninterface implementieren. Es gibt viele verschiedene Möglichkeiten, die Listenelemente zu repräsentieren. Wir wählen hier als Datenstruktur die *verkettete Liste*. "
   ]
  },
  {
   "cell_type": "markdown",
   "id": "3b5d696a",
   "metadata": {},
   "source": [
    "Die Grundlage für die Implementation ist ein Knoten (engl. Node). Ein Knoten ist ein Element in der Liste und enthält die Daten (hier der String ```item```) sowie eine Referenz auf den nächste Knoten (oder ```null```, falls es kein nächstes Element gibt)."
   ]
  },
  {
   "cell_type": "code",
   "execution_count": 4,
   "id": "466ac4e4",
   "metadata": {},
   "outputs": [],
   "source": [
    "class Node {\n",
    "    double value;\n",
    "    Node next;\n",
    "    \n",
    "    Node(double value) {\n",
    "        this.value = value;\n",
    "        this.next = null;\n",
    "    }\n",
    "}"
   ]
  },
  {
   "cell_type": "markdown",
   "id": "4f76bd71",
   "metadata": {},
   "source": [
    "Um Werte in der Liste zu speichern, können wir einfach Objekte vom Typ `Node` mit dem entsprechenden Wert erzeugen."
   ]
  },
  {
   "cell_type": "code",
   "execution_count": 72,
   "id": "78666ecf",
   "metadata": {},
   "outputs": [],
   "source": [
    "class NodeTest {\n",
    "    static void test() {\n",
    "        Node n1 = new Node(1.0);\n",
    "        Node n2 = new Node(0.0);\n",
    "        Node n3 = new Node(4.0);    \n",
    "    }\n",
    "}"
   ]
  },
  {
   "cell_type": "markdown",
   "id": "1ea39d91",
   "metadata": {},
   "source": [
    "Diese Knoten alleine bilden aber noch keine Liste. Wir müssen diese noch in eine Sequenz bringen. Dies machen wir, indem wir die entsprechenden `next` Felder der Klassen auf den jeweiligen Nachfolger setzen."
   ]
  },
  {
   "cell_type": "code",
   "execution_count": 8,
   "id": "522b61cc",
   "metadata": {},
   "outputs": [
    {
     "name": "stdout",
     "output_type": "stream",
     "text": [
      "1.0\n",
      "0.0\n",
      "4.0\n"
     ]
    }
   ],
   "source": [
    "class NodeTest {\n",
    "    public static Node createList() {\n",
    "        Node n1 = new Node(1.0);\n",
    "        Node n2 = new Node(0.0);\n",
    "        Node n3 = new Node(4.0);    \n",
    "        \n",
    "        n1.next = n2;\n",
    "        n2.next = n3;\n",
    "        \n",
    "        return n1;\n",
    "    }\n",
    "    \n",
    "    public static void printList(Node first) {\n",
    "        Node current = first;\n",
    "        while (current != null) { // solange wir einen Nachfolger finden machen wir weiter\n",
    "            System.out.println(current.value);\n",
    "            current = current.next;\n",
    "        }\n",
    "    }\n",
    "    \n",
    "    public static void main(String[] args) {\n",
    "        Node list = NodeTest.createList();\n",
    "        NodeTest.printList(list);\n",
    "    }\n",
    "}\n",
    "\n",
    "NodeTest.main(new String[0]);"
   ]
  },
  {
   "cell_type": "markdown",
   "id": "c6bbe9eb",
   "metadata": {},
   "source": [
    "Mit dieser Datenstruktur können wir alle Operationen des Interface List implementieren. "
   ]
  },
  {
   "cell_type": "code",
   "execution_count": 6,
   "id": "8dcbd621",
   "metadata": {},
   "outputs": [],
   "source": [
    "class LinkedList implements List {\n",
    "    \n",
    "    Node first;\n",
    "    Node last;\n",
    "    \n",
    "    int size;\n",
    "    \n",
    "    // Erzeugt eine leere Liste\n",
    "    public LinkedList() {\n",
    "        this.first = null;\n",
    "        this.last = null;\n",
    "        this.size = 0;\n",
    "    }\n",
    "    \n",
    "    \n",
    "    // Fügt ein neues Element am Ende der Liste an. \n",
    "    public void add(double element) {\n",
    "        Node newNode = new Node(element);\n",
    "        if (first == null) {\n",
    "            first = newNode;\n",
    "            last = newNode;\n",
    "        } else {\n",
    "            last.next = newNode;\n",
    "            last = newNode;\n",
    "        }        \n",
    "        size = size + 1;\n",
    "    }\n",
    "    \n",
    "    public int size() { \n",
    "        return size;\n",
    "    }\n",
    "    \n",
    "    public double[] toArray() {\n",
    "        double[] array = new double[size];\n",
    "        \n",
    "        Node current = first;\n",
    "        for (int i = 0; i < size; i = i + 1) {\n",
    "            array[i] = current.value;\n",
    "            current = current.next;\n",
    "        }\n",
    "        \n",
    "        return array;\n",
    "    }\n",
    "\n",
    "    public double get(int index) {\n",
    "        Node curr = first;\n",
    "        for (int i = 0; i < index; i = i + 1) {\n",
    "            curr = curr.next;\n",
    "        }\n",
    "        return curr.value;\n",
    "    }\n",
    "\n",
    "    public void set(int index, double element) {\n",
    "        Node curr = first;\n",
    "        for (int i = 0; i < index; i = i + 1) {\n",
    "            curr = curr.next;\n",
    "        }\n",
    "        curr.value = element;\n",
    "    }\n",
    "\n",
    "    \n",
    "        \n",
    "    // Gibt die Liste aus\n",
    "    @Override\n",
    "    public String toString() { \n",
    "        if (first == null) {\n",
    "            return \"[]\";\n",
    "        } else {\n",
    "            StringBuffer sb = new StringBuffer();\n",
    "            sb.append(\"[\");\n",
    "            for (Node current = first; current != last; current = current.next) {\n",
    "                sb.append(current.value);\n",
    "                sb.append(\",\");\n",
    "            }\n",
    "            sb.append(last.value);\n",
    "            sb.append(\"]\");\n",
    "            return sb.toString();\n",
    "        }\n",
    "    }\n",
    "\n",
    "\n",
    "    @Override\n",
    "    public boolean equals(Object other) {\n",
    "        if (!(other instanceof LinkedList)) {\n",
    "            return false;\n",
    "        }\n",
    "        LinkedList otherLL = (LinkedList) other;\n",
    "        \n",
    "        if (otherLL.size() != this.size()) { \n",
    "            return false;\n",
    "        }\n",
    "\n",
    "        \n",
    "        Node currThis = first;\n",
    "        Node currOther = otherLL.first;\n",
    "\n",
    "        while (currThis != null) {\n",
    "            if (currThis.value != currOther.value) {\n",
    "                return false;\n",
    "            }\n",
    "            currThis = currThis.next;\n",
    "            currOther = currOther.next;\n",
    "        }\n",
    "        return true;\n",
    "        \n",
    "    }\n",
    "    \n",
    "    \n",
    "}"
   ]
  },
  {
   "cell_type": "markdown",
   "id": "1ed280f9",
   "metadata": {},
   "source": [
    "Wir testen unsere Implementation, indem wir die bereits implementierten Funktionen `ListTools.addNumbersInRange` und `ListTools.computeAverageValue` nutzen. "
   ]
  },
  {
   "cell_type": "code",
   "execution_count": 9,
   "id": "d6010a62",
   "metadata": {},
   "outputs": [
    {
     "name": "stdout",
     "output_type": "stream",
     "text": [
      "[0.0,0.5,1.0,1.5,2.0,2.5,3.0,3.5,4.0,4.5,5.0,5.5,6.0,6.5,7.0,7.5,8.0,8.5,9.0,9.5]\n",
      "average 4.75\n"
     ]
    }
   ],
   "source": [
    "class LinkedListTest {\n",
    "    \n",
    "    public static void main(String[] args) {\n",
    "        LinkedList list = new LinkedList();\n",
    "        ListTools.addNumbersInRange(list, 0, 10, 20);\n",
    "        System.out.println(list);\n",
    "        System.out.println(\"average \" + ListTools.computeAverageValue(list));\n",
    "    }    \n",
    "}\n",
    "\n",
    "LinkedListTest.main(new String[0]);"
   ]
  },
  {
   "cell_type": "markdown",
   "id": "47740f79",
   "metadata": {},
   "source": [
    "### Übung\n",
    "\n",
    "* Im Notebook [Objektorientierung](https://jupyterhub-edu.scicore.unibas.ch/hub/user-redirect/git-pull?repo=https%3A%2F%2Fgithub.com%2Funibas-marcelluethi%2Fgdp-notebooks-hs22&urlpath=tree%2Fgdp-notebooks-hs22%2FObjektorientierung.ipynb&branch=main) finden Sie die Klasse ArrayList. Passen Sie diese so an, dass diese das List Interface unterstützt. "
   ]
  },
  {
   "cell_type": "code",
   "execution_count": 15,
   "id": "160f5578",
   "metadata": {},
   "outputs": [],
   "source": [
    "class ArrayList implements List {\n",
    "    \n",
    "    // Hält die Daten \n",
    "    double[] data;\n",
    "    \n",
    "    // Die Anzahl der in der ArrayList gespeicherten Elemente\n",
    "    int size = 0;\n",
    "    \n",
    "    // Erzeugt eine ArrayList mit gegebener Kapazität\n",
    "    public ArrayList(int capacity) {\n",
    "        this.data = new double[capacity];\n",
    "        this.size = 0;\n",
    "    }\n",
    "    \n",
    "    // Erzeugt eine ArrayList mit n Elementen, die alle auf den in element gegebene\n",
    "    // Wert gesetzt wird. \n",
    "    public static ArrayList fill(int n, double element) {\n",
    "        ArrayList newList = new ArrayList(n);\n",
    "        for (int i = 0; i < n; i = i + 1) {\n",
    "            newList.append(element);\n",
    "        }\n",
    "        return newList;\n",
    "        \n",
    "    }\n",
    "    \n",
    "    // Setzt das Element an der Stelle index\n",
    "    public void set(int index, double element) {\n",
    "        data[index] = element;\n",
    "    }\n",
    "    \n",
    "    // Fügt ein neues Element am Ende der Liste an. Wenn die Liste nicht gross\n",
    "    // genug ist, wird die Liste vergrössert\n",
    "    public void append(double element) {\n",
    "        if (size >= data.length) {\n",
    "            resize(2 * data.length);\n",
    "        }\n",
    "        data[size] = element;\n",
    "        size += 1;\n",
    "    }\n",
    "    \n",
    "    // Gibt die Liste aus\n",
    "    public void print() { \n",
    "        if (size == 0) {\n",
    "            System.out.println(\"[]\");\n",
    "        } else {\n",
    "            System.out.print(\"[\");\n",
    "            for (int i = 0; i < size -1 ; i = i + 1) {\n",
    "                System.out.print(data[i] + \", \"); \n",
    "            }\n",
    "            System.out.print(data[size - 1]);\n",
    "            System.out.println(\"]\");\n",
    "        }\n",
    "    }\n",
    "    \n",
    "    // Vergleicht dieses Array mit dem übergebenen Array other\n",
    "    public boolean equals(ArrayList other) {\n",
    "        if (other.size != this.size) { \n",
    "            return false;\n",
    "        }\n",
    "        for (int i = 0; i < size; i = i + 1) {\n",
    "            if (this.data[i] != other.data[i]) {\n",
    "                return false;\n",
    "            }\n",
    "        }\n",
    "        \n",
    "        return true;\n",
    "        \n",
    "    }\n",
    "    \n",
    "    // Verändert die Grösse des Arrays. Die im array gespeicherten \n",
    "    // Elemente bleiben erhalten. \n",
    "    void resize(int numberOfElements) {\n",
    "        double[] newArray = new double[numberOfElements];\n",
    "        for (int i = 0; i < size; i = i + 1) {\n",
    "            newArray[i] = data[i];\n",
    "        }\n",
    "        this.data = newArray;\n",
    "    }\n",
    "    \n",
    "    //=========================================\n",
    "    // Implementieren Sie die geerbten Methoden\n",
    "    public int size() { \n",
    "        return size;\n",
    "    }\n",
    "\n",
    "    \n",
    "    public double get(int index) { \n",
    "        return data[index];\n",
    "    }\n",
    "    \n",
    "    public double[] toArray() {\n",
    "        double[] arr = new double[size];\n",
    "        for (int i = 0; i < size; i = i + 1) {\n",
    "            arr[i] = get(i);\n",
    "        }\n",
    "        return arr;\n",
    "    }\n",
    "    \n",
    "    public void add(double value) {\n",
    "        append(value);\n",
    "    }\n",
    "}"
   ]
  },
  {
   "cell_type": "code",
   "execution_count": 21,
   "id": "88ecee91",
   "metadata": {},
   "outputs": [
    {
     "name": "stdout",
     "output_type": "stream",
     "text": [
      "average 4.999999999999996\n",
      "[0.0, 0.1, 0.2, 0.30000000000000004, 0.4, 0.5, 0.6, 0.7, 0.7999999999999999, 0.8999999999999999, 0.9999999999999999, 1.0999999999999999, 1.2, 1.3, 1.4000000000000001, 1.5000000000000002, 1.6000000000000003, 1.7000000000000004, 1.8000000000000005, 1.9000000000000006, 2.0000000000000004, 2.1000000000000005, 2.2000000000000006, 2.3000000000000007, 2.400000000000001, 2.500000000000001, 2.600000000000001, 2.700000000000001, 2.800000000000001, 2.9000000000000012, 3.0000000000000013, 3.1000000000000014, 3.2000000000000015, 3.3000000000000016, 3.4000000000000017, 3.5000000000000018, 3.600000000000002, 3.700000000000002, 3.800000000000002, 3.900000000000002, 4.000000000000002, 4.100000000000001, 4.200000000000001, 4.300000000000001, 4.4, 4.5, 4.6, 4.699999999999999, 4.799999999999999, 4.899999999999999, 4.999999999999998, 5.099999999999998, 5.1999999999999975, 5.299999999999997, 5.399999999999997, 5.4999999999999964, 5.599999999999996, 5.699999999999996, 5.799999999999995, 5.899999999999995, 5.999999999999995, 6.099999999999994, 6.199999999999994, 6.299999999999994, 6.399999999999993, 6.499999999999993, 6.5999999999999925, 6.699999999999992, 6.799999999999992, 6.8999999999999915, 6.999999999999991, 7.099999999999991, 7.19999999999999, 7.29999999999999, 7.39999999999999, 7.499999999999989, 7.599999999999989, 7.699999999999989, 7.799999999999988, 7.899999999999988, 7.999999999999988, 8.099999999999987, 8.199999999999987, 8.299999999999986, 8.399999999999986, 8.499999999999986, 8.599999999999985, 8.699999999999985, 8.799999999999985, 8.899999999999984, 8.999999999999984, 9.099999999999984, 9.199999999999983, 9.299999999999983, 9.399999999999983, 9.499999999999982, 9.599999999999982, 9.699999999999982, 9.799999999999981, 9.89999999999998, 9.99999999999998]\n"
     ]
    }
   ],
   "source": [
    "class ArrayListTest {\n",
    "    public static void main(String[] args) {\n",
    "        ArrayList list = new ArrayList(10);\n",
    "        ListTools.addNumbersInRange(list, 0, 10, 100);        \n",
    "        System.out.println(\"average \" + ListTools.computeAverageValue(list));\n",
    "    }\n",
    "}\n",
    "ArrayListTest.main(new String[0]);"
   ]
  },
  {
   "cell_type": "code",
   "execution_count": null,
   "id": "17fcf59e",
   "metadata": {},
   "outputs": [],
   "source": []
  }
 ],
 "metadata": {
  "kernelspec": {
    "name": "conda-env-ijava-java",
    "display_name": "Java [conda env:ijava]",
    "language": "java"
  },
  "language_info": {
    "name": "Java",
    "version": "17.0.3-internal+0-adhoc..src",
    "mimetype": "text/x-java-source",
    "file_extension": ".jshell",
    "pygments_lexer": "java",
    "codemirror_mode": "java"
  }
 },
 "nbformat": 4,
 "nbformat_minor": 5
}
