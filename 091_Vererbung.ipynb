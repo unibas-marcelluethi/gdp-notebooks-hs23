{
 "cells": [
  {
   "cell_type": "markdown",
   "id": "e0c58392",
   "metadata": {},
   "source": [
    "# Vererbung\n",
    "#### Marcel Lüthi, Andreas Morel-Forster<br/>Departement Mathematik und Informatik, Universität Basel"
   ]
  },
  {
   "cell_type": "markdown",
   "id": "ab6c2e90",
   "metadata": {},
   "source": [
    "### Vererbung in Java\n",
    "\n",
    "Beim Programmieren modeliert man oft ein Teil der Welt. Es werden dann natürlich nur die Eigenschaften modeliert, welche im Programm benötigt werden.\n",
    "\n",
    "Vererbung kann verwendet werden um mehrere Klassen mit den selben Merkmalen auszustatten. Schauen wir uns die Eigenschaft \"kann fliegen\" an. Wir beginnen mal diese Eigenschaft als abstrakte Klasse zu definieren, welche das Verhalten implementiert."
   ]
  },
  {
   "cell_type": "markdown",
   "id": "52b95422",
   "metadata": {},
   "source": [
    "#### Miniübung\n",
    "Um Ihnen Tipparbeit zu sparen, sind Teile schon vorhande. Diese müssen Sie aber je nach Situation noch ändern und anpassen.\n",
    "\n",
    "- Implementieren Sie eine abstrakte Klasse `CanFly`.\n",
    "- Die Klasse soll eine Methode `fly` haben, die etwas zum Thema Fliegen auf die Konsole ausgibt.\n",
    "- Leiten Sie eine Klasse `Bird` von dieser Klasse ab.\n",
    "- Benutzen Sie die Klasse `Bird` und rufen die geerbte Methode `fly` auf."
   ]
  },
  {
   "cell_type": "code",
   "execution_count": null,
   "id": "3d8dd6cb",
   "metadata": {},
   "outputs": [],
   "source": [
    "// Ihre abstrakte Klasse kommt hier hin\n",
    "public class CanFly {}\n",
    "\n",
    "// Ihre Klasse Bird kommt hier hin\n",
    "public class Bird {}\n",
    "\n",
    "public class Application {\n",
    "    public static void main(String[] args) {\n",
    "        // Benutzen Sie Ihre Klasse hier und rufen Sie die Methode auf\n",
    "    }\n",
    "}"
   ]
  },
  {
   "cell_type": "code",
   "execution_count": null,
   "id": "c6fe139c",
   "metadata": {},
   "outputs": [],
   "source": [
    "Application.main(new String[0]);"
   ]
  },
  {
   "cell_type": "markdown",
   "id": "7b45a80f",
   "metadata": {},
   "source": [
    "Flugzeuge können auch fliegen. Wir profitieren hier von der abstrakten Klasse `CanFly`."
   ]
  },
  {
   "cell_type": "markdown",
   "id": "e86e141a",
   "metadata": {},
   "source": [
    "#### Miniübung\n",
    "\n",
    "- Implementieren Sie eine Klasse `Airplane` welche auch von `CanFly` erbt.\n",
    "- Erstellen Sie ein Array, welches ein Flugzeung und ein Vogel als Elemente hat.\n",
    "- Iterieren Sie über das Array und rufen Sie auf jedem Element die Methode `fly` auf."
   ]
  },
  {
   "cell_type": "code",
   "execution_count": null,
   "id": "fbc27c86",
   "metadata": {},
   "outputs": [],
   "source": [
    "// Ihre Klasse Airplane kommt hier hin\n",
    "public class Airplane {}\n",
    "\n",
    "public class Application {\n",
    "    public static void main(String[] args) {\n",
    "        // Erstellen und benutzen Sie das Array hier\n",
    "    }\n",
    "}"
   ]
  },
  {
   "cell_type": "code",
   "execution_count": null,
   "id": "2d1f071c",
   "metadata": {},
   "outputs": [],
   "source": [
    "Application.main(new String[0]);"
   ]
  },
  {
   "cell_type": "markdown",
   "id": "05bc2ccd",
   "metadata": {},
   "source": [
    "Klassen mit nur einer Eigenschaft sind etwas langweilig. Eine zweite Eigenschaft von Vögeln ist, dass sie Essen müssen."
   ]
  },
  {
   "cell_type": "markdown",
   "id": "ae2a2e61",
   "metadata": {},
   "source": [
    "#### Miniübung\n",
    "- Schreiben Sie eine abstrakte Klasse `NeedsFood`.\n",
    "- Die Klasse soll eine Methode `eat` haben, welche etwas übers Essen auf die Konsole ausgibt."
   ]
  },
  {
   "cell_type": "code",
   "execution_count": null,
   "id": "b3227bc4",
   "metadata": {},
   "outputs": [],
   "source": [
    "public class NeedsFood {}"
   ]
  },
  {
   "cell_type": "markdown",
   "id": "6f1f4609",
   "metadata": {},
   "source": [
    "#### Miniübung\n",
    "- Erstellen Sie eine Klasse `HungryBird` die fliegen kann und etwas zu Essen braucht."
   ]
  },
  {
   "cell_type": "code",
   "execution_count": null,
   "id": "ad0a6ede",
   "metadata": {},
   "outputs": [],
   "source": [
    "// Hier kommt ihre Klasse HungryBird hin\n",
    "public class HungryBird { }\n",
    "\n",
    "public class Application {\n",
    "    public static void main(String[] args) {\n",
    "        HungryBird bird = new HungryBird();\n",
    "        // bird.fly();   \n",
    "        // bird.eat();\n",
    "    }\n",
    "}"
   ]
  },
  {
   "cell_type": "code",
   "execution_count": null,
   "id": "5089804f",
   "metadata": {},
   "outputs": [],
   "source": [
    "Application.main(new String[0]);"
   ]
  },
  {
   "cell_type": "markdown",
   "id": "bacb92d2",
   "metadata": {},
   "source": [
    ">Klassen können in Java nur von einer Klassen erben, aber mehrere Interfaces implementieren.\n",
    "\n",
    "Mehrfachvererbung ist in gewissen anderen Programmiersprachen erlaubt, nicht aber in Java. In Java können Klassen jedoch mehrere Interfaces implementieren."
   ]
  },
  {
   "cell_type": "markdown",
   "id": "d6e9a040",
   "metadata": {},
   "source": [
    "### Interfaces\n",
    "\n",
    "#### Miniübung\n",
    "- Deklarieren Sie das passende Interface `NeedsFood`.\n",
    "- Ergänzen Sie die Klasse HungryBird, so dass diese die beiden Interfaces `CanFly` und `NeedsFood` implementiert."
   ]
  },
  {
   "cell_type": "code",
   "execution_count": null,
   "id": "70aa3978",
   "metadata": {},
   "outputs": [],
   "source": [
    "public interface CanFly {\n",
    "    void fly();\n",
    "}\n",
    "\n",
    "// Hier kommt das Interface NeedsFood hin\n",
    "\n",
    "// Ergänzen Sie die Klasse HungryBird\n",
    "public class HungryBird {}\n",
    "\n",
    "public class Application {\n",
    "    public static void main(String[] args) {\n",
    "        HungryBird hb = new HungryBird();\n",
    "        //hb.fly();\n",
    "        //hb.eat();\n",
    "    }\n",
    "}"
   ]
  },
  {
   "cell_type": "code",
   "execution_count": null,
   "id": "d7a40b73",
   "metadata": {},
   "outputs": [],
   "source": [
    "Application.main(new String[0]);"
   ]
  },
  {
   "cell_type": "markdown",
   "id": "79c459fd",
   "metadata": {},
   "source": [
    "Interfaces können nicht nur Methoden Deklarationen enthalten. Tatsächlich ermöglicht es Java seit Version 8, dass Interfaces eine `default` Implementation für Methoden angeben.\n",
    "\n",
    "Wir können also unsere Idee mit den abstrakten Klassen als Interfaces umsetzen.\n",
    "\n",
    "#### Miniübung\n",
    "- Schreiben Sie eine `default` Implementation für die beiden Methoden direkt in den Interfaces.\n",
    "- Ergänzen Sie die Klasse `HungryBird`."
   ]
  },
  {
   "cell_type": "code",
   "execution_count": null,
   "id": "53c21040",
   "metadata": {},
   "outputs": [],
   "source": [
    "public interface CanFly {\n",
    "    void fly();\n",
    "}\n",
    "\n",
    "public interface NeedsFood {\n",
    "    void eat();\n",
    "}\n",
    "\n",
    "public class HungryBird { }\n",
    "\n",
    "public class Application {\n",
    "    public static void main(String[] args) {\n",
    "        HungryBird hb = new HungryBird();\n",
    "        // hb.fly();\n",
    "        // hb.eat();\n",
    "    }\n",
    "}"
   ]
  },
  {
   "cell_type": "code",
   "execution_count": null,
   "id": "da951eed",
   "metadata": {
    "scrolled": true
   },
   "outputs": [],
   "source": [
    "Application.main(new String[0]);"
   ]
  },
  {
   "cell_type": "markdown",
   "id": "fd0f4714",
   "metadata": {},
   "source": [
    "#### (Mini-)übung\n",
    "\n",
    "- Implementieren Sie ein Interface `HasFruits` mit einer Methode `gather` die eine Frucht zurück gibt.\n",
    "- Implementieren Sie eine abstrakte Klasse `Tree` welche eine Feld `height` mit 20 (Meter) initialisiert.\n",
    "- Implementieren Sie einen Klasse `Apple`, die von Frucht erbt und als Farbe grün zurück gibt.\n",
    "- Implementieren Sie die Klasse `AppleTree` die von der Klasse Baum erbt und das Interface `HasFruits` implementiert und eine Höhe von 8 Meter hat.\n",
    "- Von welchen Typen können Sie Instanzen erzeugen?\n",
    "- Erstellen Sie von Ihrem Apfelbaum eine Instanz. Geben Sie die Höhe aus. Weisen Sie dann Ihren Baum einer Variable vom Typ `Tree` zu und geben die Höhe dieses neuen Baumes aus. Was beobachten Sie?\n",
    "- Objekte von welchem Typ können Sie Variablen von welchen Typen zuweisen?\n",
    "- `Mushroom` implementiert die Methoden und Felder wie die Klasse `Tree` oder das Interface `HasFruits`. Können Sie ein Objekt der Klasse `Mushroom` einem anderen Typ zuweisen?\n",
    "- Erstellen Sie ein Array von Früchten. Erstellen Sie jedoch keine Früchte direkt, sonder benützen Sie die Pflanzen.\n",
    "- Iterieren Sie über das Array und geben Sie die Farben der Früchten aus.\n",
    "- Können Sie ein Array von Apfelbäumen einem Array von einem Anderen Typ zuordnen?\n",
    "- Wenn Sie das Array von Apfelbäumen einem Array von `Object` zuordnen, können Sie dann ein Instanz der Klasse `String`, welche auch von `Object` abgeleitet ist, zuordnen?\n"
   ]
  },
  {
   "cell_type": "code",
   "execution_count": null,
   "id": "a073d46a",
   "metadata": {},
   "outputs": [],
   "source": [
    "interface Fruit {\n",
    "    String color();\n",
    "}\n",
    "\n",
    "// Hier kommt das Interface HasFruits hin\n",
    "\n",
    "\n",
    "public abstract class Bush {\n",
    "    public int numberOfBirdNests = 0;\n",
    "    \n",
    "    abstract boolean providesBirdFood();\n",
    "}\n",
    "\n",
    "// Hier kommt Ihre Klasse Tree hin\n",
    "\n",
    "\n",
    "public class Honeysuckle implements Fruit {\n",
    "    @Override\n",
    "    public String color() {\n",
    "        return \"red\";\n",
    "    }\n",
    "}\n",
    "\n",
    "// Hier kommt Ihre Klasse Apple hin\n",
    "\n",
    "\n",
    "public class RedHoneysuckle extends Bush implements HasFruits {\n",
    "    @Override\n",
    "    public Fruit gather() {\n",
    "        return new Honeysuckle();\n",
    "    }\n",
    "    \n",
    "    @Override\n",
    "    public boolean providesBirdFood() {\n",
    "        return true;\n",
    "    }\n",
    "}\n",
    "\n",
    "// Ihre Implementation des Apfelbaumes kommt hier hin.\n",
    "\n",
    "\n",
    "public class Mushroom {\n",
    "    public float height = 0.1f;\n",
    "    \n",
    "    public boolean hasLeaves() {\n",
    "        return false;\n",
    "    }\n",
    "    \n",
    "    public Fruit gather() {\n",
    "        return new Fruit() {\n",
    "            @Override\n",
    "            public String color() {\n",
    "                return \"brown\";\n",
    "            }\n",
    "        };\n",
    "    }\n",
    "}\n",
    "\n",
    "\n",
    "public class Application {\n",
    "    public static void main(String[] args) {\n",
    "        // Hier kommen Ihre Tests hin\n",
    "        \n",
    "    }\n",
    "}"
   ]
  },
  {
   "cell_type": "code",
   "execution_count": null,
   "id": "2a8cbd6c",
   "metadata": {},
   "outputs": [],
   "source": [
    "Application.main(new String[0]);"
   ]
  }
 ],
 "metadata": {
  "kernelspec": {
   "display_name": "Java",
   "language": "java",
   "name": "java"
  },
  "language_info": {
   "codemirror_mode": "java",
   "file_extension": ".jshell",
   "mimetype": "text/x-java-source",
   "name": "Java",
   "pygments_lexer": "java",
   "version": "17.0.4+8-jvmci-22.2-b06"
  }
 },
 "nbformat": 4,
 "nbformat_minor": 5
}
